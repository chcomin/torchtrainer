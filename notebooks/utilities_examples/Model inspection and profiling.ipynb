{
 "cells": [
  {
   "cell_type": "markdown",
   "metadata": {},
   "source": [
    "# Examples of using the model inspection class and the profiling functions\n",
    "\n",
    "The inspection class can gather model parameters, gradients, activations and activation gradients.\n",
    "\n",
    "The profiling module provide information about cpu and GPU timing, memory usage and flops operations."
   ]
  },
  {
   "cell_type": "code",
   "execution_count": 1,
   "metadata": {},
   "outputs": [],
   "source": [
    "import torch\n",
    "from torchtrainer.models.resunet import ResUNetV2\n",
    "from torchtrainer.inspector import Inspector\n",
    "from torchtrainer.profiling import benchmark_model\n",
    "\n",
    "# Dummy data. In a real application this should be a batch of the dataset.\n",
    "batch = torch.rand(8, 1, 224, 224)\n",
    "labels = torch.randint(0, 1000, (8,))\n",
    "\n",
    "model = ResUNetV2((3, 3, 3), (1, 1, 1), (16, 32, 64))\n",
    "model.eval();"
   ]
  },
  {
   "cell_type": "markdown",
   "metadata": {},
   "source": [
    "### Model inspection"
   ]
  },
  {
   "cell_type": "code",
   "execution_count": 2,
   "metadata": {},
   "outputs": [
    {
     "name": "stdout",
     "output_type": "stream",
     "text": [
      "('resunetv2.stage_input.0', 'resunetv2.stage_input.1', 'resunetv2.encoder.stage_0.0.conv1', 'resunetv2.encoder.stage_0.0.bn1', 'resunetv2.encoder.stage_0.0.conv2', 'resunetv2.encoder.stage_0.0.bn2', 'resunetv2.encoder.stage_0.0.residual_adj.0', 'resunetv2.encoder.stage_0.0.residual_adj.1', 'resunetv2.encoder.stage_0.0', 'resunetv2.encoder.stage_0.1.conv1')\n",
      "torch.Size([8, 16, 224, 224])\n"
     ]
    }
   ],
   "source": [
    "# Check intermediate activations of the model, as well as gradients and parameters\n",
    "insp = Inspector(model)\n",
    "# For activations, we need to explicitly start tracking to set up the forward hooks.\n",
    "insp.start_tracking_activations()\n",
    "\n",
    "# Apply model to batch\n",
    "res = model(batch)\n",
    "# Dummy calculation of loss and gradients, just as an example.\n",
    "loss = res.sum().backward()\n",
    "\n",
    "# Remove the forward hooks\n",
    "insp.stop_tracking_activations()\n",
    "\n",
    "# Activations\n",
    "acts = insp.get_activations()\n",
    "# Parameters\n",
    "params = insp.get_params()\n",
    "# Gradients\n",
    "grads = insp.get_grads()\n",
    "\n",
    "names, values = zip(*acts)\n",
    "print(names[:10])    # Names of the first 10 layers\n",
    "print(values[0].shape)  # Size of the activations of the first layer"
   ]
  },
  {
   "cell_type": "markdown",
   "metadata": {},
   "source": [
    "Tracking activations involves copying all the data from the GPU to the CPU (to preserve GPU memory), which is expensive. We can provide and aggregation function that will be applied to the data before copying"
   ]
  },
  {
   "cell_type": "code",
   "execution_count": 4,
   "metadata": {},
   "outputs": [
    {
     "name": "stdout",
     "output_type": "stream",
     "text": [
      "[('resunetv2.stage_input.0', tensor([-0.6815,  0.7346])), ('resunetv2.stage_input.1', tensor([-0.6814,  0.7346])), ('resunetv2.encoder.stage_0.0.conv1', tensor([-0.8331,  0.7999])), ('resunetv2.encoder.stage_0.0.bn1', tensor([-0.8331,  0.7999])), ('resunetv2.encoder.stage_0.0.conv2', tensor([-0.8007,  0.7913])), ('resunetv2.encoder.stage_0.0.bn2', tensor([-0.8007,  0.7913])), ('resunetv2.encoder.stage_0.0.residual_adj.0', tensor([-0.8482,  0.8689])), ('resunetv2.encoder.stage_0.0.residual_adj.1', tensor([-0.8482,  0.8689])), ('resunetv2.encoder.stage_0.0', tensor([0.0000, 1.0786])), ('resunetv2.encoder.stage_0.1.conv1', tensor([-1.1678,  1.3131])), ('resunetv2.encoder.stage_0.1.bn1', tensor([-1.1678,  1.3131])), ('resunetv2.encoder.stage_0.1.conv2', tensor([-1.1128,  1.2119])), ('resunetv2.encoder.stage_0.1.bn2', tensor([-1.1128,  1.2119])), ('resunetv2.encoder.stage_0.1', tensor([0.0000, 1.7168])), ('resunetv2.encoder.stage_0.2.conv1', tensor([-1.6641,  2.0316])), ('resunetv2.encoder.stage_0.2.bn1', tensor([-1.6641,  2.0316])), ('resunetv2.encoder.stage_0.2.conv2', tensor([-2.0023,  2.1849])), ('resunetv2.encoder.stage_0.2.bn2', tensor([-2.0022,  2.1849])), ('resunetv2.encoder.stage_0.2', tensor([0.0000, 2.2837])), ('resunetv2.encoder.stage_1.0.conv1', tensor([-2.1897,  2.0640])), ('resunetv2.encoder.stage_1.0.bn1', tensor([-2.1896,  2.0640])), ('resunetv2.encoder.stage_1.0.conv2', tensor([-2.6980,  2.1567])), ('resunetv2.encoder.stage_1.0.bn2', tensor([-2.6980,  2.1567])), ('resunetv2.encoder.stage_1.0.residual_adj.0', tensor([-2.8288,  2.0986])), ('resunetv2.encoder.stage_1.0.residual_adj.1', tensor([-2.8288,  2.0986])), ('resunetv2.encoder.stage_1.0', tensor([0.0000, 2.6828])), ('resunetv2.encoder.stage_1.1.conv1', tensor([-2.8227,  2.9507])), ('resunetv2.encoder.stage_1.1.bn1', tensor([-2.8227,  2.9507])), ('resunetv2.encoder.stage_1.1.conv2', tensor([-2.4506,  2.4877])), ('resunetv2.encoder.stage_1.1.bn2', tensor([-2.4506,  2.4877])), ('resunetv2.encoder.stage_1.1', tensor([0.0000, 3.4757])), ('resunetv2.encoder.stage_1.2.conv1', tensor([-3.8180,  3.9796])), ('resunetv2.encoder.stage_1.2.bn1', tensor([-3.8180,  3.9796])), ('resunetv2.encoder.stage_1.2.conv2', tensor([-3.1133,  2.7462])), ('resunetv2.encoder.stage_1.2.bn2', tensor([-3.1132,  2.7462])), ('resunetv2.encoder.stage_1.2', tensor([0.0000, 4.8645])), ('resunetv2.encoder.stage_2.0.conv1', tensor([-5.6357,  4.9156])), ('resunetv2.encoder.stage_2.0.bn1', tensor([-5.6357,  4.9156])), ('resunetv2.encoder.stage_2.0.conv2', tensor([-3.7526,  4.1163])), ('resunetv2.encoder.stage_2.0.bn2', tensor([-3.7526,  4.1163])), ('resunetv2.encoder.stage_2.0.residual_adj.0', tensor([-4.3908,  4.3363])), ('resunetv2.encoder.stage_2.0.residual_adj.1', tensor([-4.3908,  4.3363])), ('resunetv2.encoder.stage_2.0', tensor([0.0000, 5.8847])), ('resunetv2.encoder.stage_2.1.conv1', tensor([-5.3603,  5.3758])), ('resunetv2.encoder.stage_2.1.bn1', tensor([-5.3603,  5.3757])), ('resunetv2.encoder.stage_2.1.conv2', tensor([-6.7933,  7.8049])), ('resunetv2.encoder.stage_2.1.bn2', tensor([-6.7932,  7.8049])), ('resunetv2.encoder.stage_2.1', tensor([0.0000, 8.7772])), ('resunetv2.encoder.stage_2.2.conv1', tensor([-8.0838,  9.5457])), ('resunetv2.encoder.stage_2.2.bn1', tensor([-8.0837,  9.5456])), ('resunetv2.encoder.stage_2.2.conv2', tensor([-7.8617,  9.3733])), ('resunetv2.encoder.stage_2.2.bn2', tensor([-7.8616,  9.3733])), ('resunetv2.encoder.stage_2.2', tensor([ 0.0000, 10.6975])), ('resunetv2.decoder.stage_2.0.channel_adj.0', tensor([-15.9350,  16.1093])), ('resunetv2.decoder.stage_2.0.channel_adj.1', tensor([-15.9349,  16.1092])), ('resunetv2.decoder.stage_2.0.interpolate', tensor([ 0.0000, 16.1092])), ('resunetv2.decoder.stage_2.0', tensor([ 0.0000, 16.1092])), ('resunetv2.decoder.stage_2.1', tensor([ 0.0000, 16.1092])), ('resunetv2.decoder.stage_2.2.0.conv1', tensor([-22.1509,  23.1097])), ('resunetv2.decoder.stage_2.2.0.bn1', tensor([-22.1508,  23.1095])), ('resunetv2.decoder.stage_2.2.0.conv2', tensor([-17.4818,  16.8521])), ('resunetv2.decoder.stage_2.2.0.bn2', tensor([-17.4817,  16.8520])), ('resunetv2.decoder.stage_2.2.0.residual_adj.0', tensor([-14.4626,  18.7172])), ('resunetv2.decoder.stage_2.2.0.residual_adj.1', tensor([-14.4625,  18.7171])), ('resunetv2.decoder.stage_2.2.0', tensor([ 0.0000, 31.1282])), ('resunetv2.decoder.stage_1.0.channel_adj.0', tensor([-27.2837,  29.2641])), ('resunetv2.decoder.stage_1.0.channel_adj.1', tensor([-27.2836,  29.2640])), ('resunetv2.decoder.stage_1.0.interpolate', tensor([ 0.0000, 29.2640])), ('resunetv2.decoder.stage_1.0', tensor([ 0.0000, 29.2640])), ('resunetv2.decoder.stage_1.1', tensor([ 0.0000, 29.2640])), ('resunetv2.decoder.stage_1.2.0.conv1', tensor([-25.0577,  28.0516])), ('resunetv2.decoder.stage_1.2.0.bn1', tensor([-25.0576,  28.0515])), ('resunetv2.decoder.stage_1.2.0.conv2', tensor([-21.7213,  29.3707])), ('resunetv2.decoder.stage_1.2.0.bn2', tensor([-21.7212,  29.3705])), ('resunetv2.decoder.stage_1.2.0.residual_adj.0', tensor([-27.6994,  23.7245])), ('resunetv2.decoder.stage_1.2.0.residual_adj.1', tensor([-27.6993,  23.7244])), ('resunetv2.decoder.stage_1.2.0', tensor([ 0.0000, 45.2429])), ('resunetv2.decoder.stage_0.0.interpolate', tensor([ 0.0000, 45.2429])), ('resunetv2.decoder.stage_0.0', tensor([ 0.0000, 45.2429])), ('resunetv2.decoder.stage_0.1', tensor([ 0.0000, 45.2429])), ('resunetv2.decoder.stage_0.2.0.conv1', tensor([-46.9074,  48.2428])), ('resunetv2.decoder.stage_0.2.0.bn1', tensor([-46.9072,  48.2426])), ('resunetv2.decoder.stage_0.2.0.conv2', tensor([-40.5529,  31.4546])), ('resunetv2.decoder.stage_0.2.0.bn2', tensor([-40.5527,  31.4545])), ('resunetv2.decoder.stage_0.2.0.residual_adj.0', tensor([-51.7977,  33.0553])), ('resunetv2.decoder.stage_0.2.0.residual_adj.1', tensor([-51.7975,  33.0551])), ('resunetv2.decoder.stage_0.2.0', tensor([ 0.0000, 44.6220])), ('resunetv2.conv_output', tensor([-32.7904,  86.2740])), ('resunetv2', tensor([-32.7904,  86.2740]))]\n"
     ]
    }
   ],
   "source": [
    "def agg_func(data, module_name, data_type):\n",
    "    return torch.tensor([data.min(), data.max()])\n",
    "\n",
    "insp = Inspector(model, agg_func=agg_func)\n",
    "insp.start_tracking_activations()\n",
    "res = model(batch)\n",
    "insp.stop_tracking_activations()\n",
    "\n",
    "acts = insp.get_activations()\n",
    "print(acts)"
   ]
  },
  {
   "cell_type": "markdown",
   "metadata": {},
   "source": [
    "We can also only track individual modules"
   ]
  },
  {
   "cell_type": "code",
   "execution_count": 5,
   "metadata": {},
   "outputs": [
    {
     "name": "stdout",
     "output_type": "stream",
     "text": [
      "[('resunetv2.stage_input', tensor([0.0000, 0.7346])), ('resunetv2.encoder.stage_2.0', tensor([0.0000, 5.8847]))]\n"
     ]
    }
   ],
   "source": [
    "insp = Inspector(model, [model.stage_input,model.encoder.stage_2[0]], agg_func)\n",
    "insp.start_tracking_activations()\n",
    "res = model(batch)\n",
    "insp.stop_tracking_activations()\n",
    "\n",
    "acts = insp.get_activations()\n",
    "print(acts)"
   ]
  },
  {
   "cell_type": "markdown",
   "metadata": {},
   "source": [
    "It is also possible to track activation gradients, but it is important to note that they do not work for a layer if the previous layer has an inplace operation."
   ]
  },
  {
   "cell_type": "code",
   "execution_count": 6,
   "metadata": {},
   "outputs": [],
   "source": [
    "insp = Inspector(model, [model.stage_input])\n",
    "insp.start_tracking_act_grads()\n",
    "res = model(batch)\n",
    "insp.stop_tracking_act_grads()\n",
    "loss = res.sum().backward()\n",
    "\n",
    "act_grads = insp.get_act_grads()"
   ]
  },
  {
   "cell_type": "markdown",
   "metadata": {},
   "source": [
    "### Model profiling"
   ]
  },
  {
   "cell_type": "code",
   "execution_count": 4,
   "metadata": {},
   "outputs": [
    {
     "name": "stdout",
     "output_type": "stream",
     "text": [
      "{'memory': 0.3601970672607422, 'time_cpu': 0.012000083923339844, 'time_gpu': 0.016653312683105468, 'info': ['memory: GiB', 'time_cpu: s', 'time_gpu: s']}\n",
      "{'memory': 0.1542043685913086, 'time_cpu': 0.005999088287353516, 'time_gpu': 0.005916672229766846, 'info': ['memory: GiB', 'time_cpu: s', 'time_gpu: s']}\n"
     ]
    }
   ],
   "source": [
    "tensor_shape = (8, 1, 224, 224)\n",
    "# Benchmark the model for training\n",
    "stats_train = benchmark_model(model, tensor_shape, no_grad=False, call_backward=True, use_float16=True)\n",
    "# Benchmark for inference\n",
    "stats_val = benchmark_model(model, tensor_shape, no_grad=True, call_backward=False, use_float16=True)\n",
    "# The units for each metric are also included in the dictionary\n",
    "print(stats_train)\n",
    "print(stats_val)"
   ]
  }
 ],
 "metadata": {
  "kernelspec": {
   "display_name": "pytorch",
   "language": "python",
   "name": "python3"
  },
  "language_info": {
   "codemirror_mode": {
    "name": "ipython",
    "version": 3
   },
   "file_extension": ".py",
   "mimetype": "text/x-python",
   "name": "python",
   "nbconvert_exporter": "python",
   "pygments_lexer": "ipython3",
   "version": "3.10.13"
  }
 },
 "nbformat": 4,
 "nbformat_minor": 2
}
