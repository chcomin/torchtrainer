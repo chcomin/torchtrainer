{
 "cells": [
  {
   "cell_type": "markdown",
   "metadata": {},
   "source": [
    "# Examples of using the model inspection class and the profiling functions\n",
    "\n",
    "The inspection class can gather model parameters, gradients, activations and activation gradients.\n",
    "\n",
    "The profiling module provide information about cpu and GPU timing, memory usage and flops operations."
   ]
  },
  {
   "cell_type": "code",
   "execution_count": 1,
   "metadata": {},
   "outputs": [],
   "source": [
    "import torch\n",
    "\n",
    "from torchtrainer.models import UNetCustom\n",
    "from torchtrainer.util.inspector import Inspector\n",
    "from torchtrainer.util.profiling import benchmark_model\n",
    "\n",
    "# Dummy data. In a real application this should be a batch of the dataset.\n",
    "batch = torch.rand(8, 1, 224, 224)\n",
    "labels = torch.randint(0, 1000, (8,))\n",
    "\n",
    "model = UNetCustom((3, 3, 3), (1, 1, 1), (16, 32, 64))\n",
    "model.eval();"
   ]
  },
  {
   "cell_type": "markdown",
   "metadata": {},
   "source": [
    "### Model inspection"
   ]
  },
  {
   "cell_type": "code",
   "execution_count": 2,
   "metadata": {},
   "outputs": [
    {
     "name": "stdout",
     "output_type": "stream",
     "text": [
      "('unetcustom.stage_input.0', 'unetcustom.stage_input.1', 'unetcustom.encoder.stage_0.0.conv1', 'unetcustom.encoder.stage_0.0.bn1', 'unetcustom.encoder.stage_0.0.conv2', 'unetcustom.encoder.stage_0.0.bn2', 'unetcustom.encoder.stage_0.0.residual_adj.0', 'unetcustom.encoder.stage_0.0.residual_adj.1', 'unetcustom.encoder.stage_0.0', 'unetcustom.encoder.stage_0.1.conv1')\n",
      "torch.Size([8, 16, 224, 224])\n"
     ]
    }
   ],
   "source": [
    "# Check intermediate activations of the model, as well as gradients and parameters\n",
    "insp = Inspector(model)\n",
    "# For activations, we need to explicitly start tracking to set up the forward hooks.\n",
    "insp.start_tracking_activations()\n",
    "\n",
    "# Apply model to batch\n",
    "res = model(batch)\n",
    "# Dummy calculation of loss and gradients, just as an example.\n",
    "loss = res.sum().backward()\n",
    "\n",
    "# Remove the forward hooks\n",
    "insp.stop_tracking_activations()\n",
    "\n",
    "# Activations\n",
    "acts = insp.get_activations()\n",
    "# Parameters\n",
    "params = insp.get_params()\n",
    "# Gradients\n",
    "grads = insp.get_grads()\n",
    "\n",
    "names, values = zip(*acts)\n",
    "print(names[:10])    # Names of the first 10 layers\n",
    "print(values[0].shape)  # Size of the activations of the first layer"
   ]
  },
  {
   "cell_type": "markdown",
   "metadata": {},
   "source": [
    "Tracking activations involves copying all the data from the GPU to the CPU (to preserve GPU memory), which is expensive. We can provide and aggregation function that will be applied to the data before copying"
   ]
  },
  {
   "cell_type": "code",
   "execution_count": 3,
   "metadata": {},
   "outputs": [
    {
     "name": "stdout",
     "output_type": "stream",
     "text": [
      "[('unetcustom.stage_input.0', tensor([-0.7785,  0.8042])), ('unetcustom.stage_input.1', tensor([-0.7785,  0.8042])), ('unetcustom.encoder.stage_0.0.conv1', tensor([-0.5338,  0.6149])), ('unetcustom.encoder.stage_0.0.bn1', tensor([-0.5338,  0.6149])), ('unetcustom.encoder.stage_0.0.conv2', tensor([-0.9259,  0.6080])), ('unetcustom.encoder.stage_0.0.bn2', tensor([-0.9259,  0.6080])), ('unetcustom.encoder.stage_0.0.residual_adj.0', tensor([-0.6166,  0.6094])), ('unetcustom.encoder.stage_0.0.residual_adj.1', tensor([-0.6166,  0.6094])), ('unetcustom.encoder.stage_0.0', tensor([0.0000, 0.8452])), ('unetcustom.encoder.stage_0.1.conv1', tensor([-0.9459,  0.6439])), ('unetcustom.encoder.stage_0.1.bn1', tensor([-0.9459,  0.6439])), ('unetcustom.encoder.stage_0.1.conv2', tensor([-0.6720,  0.4935])), ('unetcustom.encoder.stage_0.1.bn2', tensor([-0.6720,  0.4935])), ('unetcustom.encoder.stage_0.1', tensor([0.0000, 1.0205])), ('unetcustom.encoder.stage_0.2.conv1', tensor([-0.8025,  0.9467])), ('unetcustom.encoder.stage_0.2.bn1', tensor([-0.8024,  0.9467])), ('unetcustom.encoder.stage_0.2.conv2', tensor([-0.8193,  0.8374])), ('unetcustom.encoder.stage_0.2.bn2', tensor([-0.8193,  0.8374])), ('unetcustom.encoder.stage_0.2', tensor([0.0000, 1.0663])), ('unetcustom.encoder.stage_1.0.conv1', tensor([-1.0156,  0.7463])), ('unetcustom.encoder.stage_1.0.bn1', tensor([-1.0156,  0.7463])), ('unetcustom.encoder.stage_1.0.conv2', tensor([-0.5868,  0.7214])), ('unetcustom.encoder.stage_1.0.bn2', tensor([-0.5868,  0.7214])), ('unetcustom.encoder.stage_1.0.residual_adj.0', tensor([-1.2063,  0.8104])), ('unetcustom.encoder.stage_1.0.residual_adj.1', tensor([-1.2063,  0.8104])), ('unetcustom.encoder.stage_1.0', tensor([0.0000, 0.8772])), ('unetcustom.encoder.stage_1.1.conv1', tensor([-0.7743,  0.8107])), ('unetcustom.encoder.stage_1.1.bn1', tensor([-0.7743,  0.8107])), ('unetcustom.encoder.stage_1.1.conv2', tensor([-0.8089,  0.8609])), ('unetcustom.encoder.stage_1.1.bn2', tensor([-0.8089,  0.8609])), ('unetcustom.encoder.stage_1.1', tensor([0.0000, 1.4362])), ('unetcustom.encoder.stage_1.2.conv1', tensor([-1.0830,  1.2497])), ('unetcustom.encoder.stage_1.2.bn1', tensor([-1.0830,  1.2497])), ('unetcustom.encoder.stage_1.2.conv2', tensor([-1.1648,  1.2638])), ('unetcustom.encoder.stage_1.2.bn2', tensor([-1.1648,  1.2638])), ('unetcustom.encoder.stage_1.2', tensor([0.0000, 1.5485])), ('unetcustom.encoder.stage_2.0.conv1', tensor([-1.3250,  1.3088])), ('unetcustom.encoder.stage_2.0.bn1', tensor([-1.3250,  1.3088])), ('unetcustom.encoder.stage_2.0.conv2', tensor([-1.1386,  1.1457])), ('unetcustom.encoder.stage_2.0.bn2', tensor([-1.1386,  1.1457])), ('unetcustom.encoder.stage_2.0.residual_adj.0', tensor([-1.3067,  1.5143])), ('unetcustom.encoder.stage_2.0.residual_adj.1', tensor([-1.3067,  1.5143])), ('unetcustom.encoder.stage_2.0', tensor([0.0000, 1.6012])), ('unetcustom.encoder.stage_2.1.conv1', tensor([-1.4223,  1.4688])), ('unetcustom.encoder.stage_2.1.bn1', tensor([-1.4223,  1.4688])), ('unetcustom.encoder.stage_2.1.conv2', tensor([-1.4459,  1.6678])), ('unetcustom.encoder.stage_2.1.bn2', tensor([-1.4459,  1.6678])), ('unetcustom.encoder.stage_2.1', tensor([0.0000, 2.0721])), ('unetcustom.encoder.stage_2.2.conv1', tensor([-2.0120,  1.7922])), ('unetcustom.encoder.stage_2.2.bn1', tensor([-2.0120,  1.7922])), ('unetcustom.encoder.stage_2.2.conv2', tensor([-1.9220,  1.3707])), ('unetcustom.encoder.stage_2.2.bn2', tensor([-1.9219,  1.3707])), ('unetcustom.encoder.stage_2.2', tensor([0.0000, 2.6549])), ('unetcustom.decoder.stage_2.0.channel_adj.0', tensor([-4.2263,  3.7289])), ('unetcustom.decoder.stage_2.0.channel_adj.1', tensor([-4.2263,  3.7288])), ('unetcustom.decoder.stage_2.0.interpolate', tensor([0.0000, 3.7288])), ('unetcustom.decoder.stage_2.0', tensor([0.0000, 3.7288])), ('unetcustom.decoder.stage_2.1', tensor([0.0000, 3.7288])), ('unetcustom.decoder.stage_2.2.0.conv1', tensor([-3.9033,  3.3377])), ('unetcustom.decoder.stage_2.2.0.bn1', tensor([-3.9033,  3.3377])), ('unetcustom.decoder.stage_2.2.0.conv2', tensor([-4.1931,  4.1622])), ('unetcustom.decoder.stage_2.2.0.bn2', tensor([-4.1931,  4.1622])), ('unetcustom.decoder.stage_2.2.0.residual_adj.0', tensor([-3.0867,  6.2177])), ('unetcustom.decoder.stage_2.2.0.residual_adj.1', tensor([-3.0867,  6.2177])), ('unetcustom.decoder.stage_2.2.0', tensor([0.0000, 6.6878])), ('unetcustom.decoder.stage_1.0.channel_adj.0', tensor([-5.6258,  7.3410])), ('unetcustom.decoder.stage_1.0.channel_adj.1', tensor([-5.6258,  7.3410])), ('unetcustom.decoder.stage_1.0.interpolate', tensor([0.0000, 7.3410])), ('unetcustom.decoder.stage_1.0', tensor([0.0000, 7.3410])), ('unetcustom.decoder.stage_1.1', tensor([0.0000, 7.3410])), ('unetcustom.decoder.stage_1.2.0.conv1', tensor([-6.8240, 13.1113])), ('unetcustom.decoder.stage_1.2.0.bn1', tensor([-6.8239, 13.1113])), ('unetcustom.decoder.stage_1.2.0.conv2', tensor([-10.1251,  12.9191])), ('unetcustom.decoder.stage_1.2.0.bn2', tensor([-10.1250,  12.9190])), ('unetcustom.decoder.stage_1.2.0.residual_adj.0', tensor([-8.7162, 11.3636])), ('unetcustom.decoder.stage_1.2.0.residual_adj.1', tensor([-8.7162, 11.3635])), ('unetcustom.decoder.stage_1.2.0', tensor([ 0.0000, 13.0329])), ('unetcustom.decoder.stage_0.0.interpolate', tensor([ 0.0000, 13.0329])), ('unetcustom.decoder.stage_0.0', tensor([ 0.0000, 13.0329])), ('unetcustom.decoder.stage_0.1', tensor([ 0.0000, 13.0329])), ('unetcustom.decoder.stage_0.2.0.conv1', tensor([-10.5056,  18.8239])), ('unetcustom.decoder.stage_0.2.0.bn1', tensor([-10.5056,  18.8238])), ('unetcustom.decoder.stage_0.2.0.conv2', tensor([-8.5682, 18.7411])), ('unetcustom.decoder.stage_0.2.0.bn2', tensor([-8.5681, 18.7410])), ('unetcustom.decoder.stage_0.2.0.residual_adj.0', tensor([-12.9146,  13.6429])), ('unetcustom.decoder.stage_0.2.0.residual_adj.1', tensor([-12.9146,  13.6428])), ('unetcustom.decoder.stage_0.2.0', tensor([ 0.0000, 21.0145])), ('unetcustom.conv_output', tensor([-64.6271,  46.8674])), ('unetcustom', tensor([-64.6271,  46.8674]))]\n"
     ]
    }
   ],
   "source": [
    "def agg_func(data, module_name, data_type):\n",
    "    return torch.tensor([data.min(), data.max()])\n",
    "\n",
    "insp = Inspector(model, agg_func=agg_func)\n",
    "insp.start_tracking_activations()\n",
    "res = model(batch)\n",
    "insp.stop_tracking_activations()\n",
    "\n",
    "acts = insp.get_activations()\n",
    "print(acts)"
   ]
  },
  {
   "cell_type": "markdown",
   "metadata": {},
   "source": [
    "We can also only track individual modules"
   ]
  },
  {
   "cell_type": "code",
   "execution_count": 4,
   "metadata": {},
   "outputs": [
    {
     "name": "stdout",
     "output_type": "stream",
     "text": [
      "[('unetcustom.stage_input', tensor([0.0000, 0.8042])), ('unetcustom.encoder.stage_2.0', tensor([0.0000, 1.6012]))]\n"
     ]
    }
   ],
   "source": [
    "insp = Inspector(model, [model.stage_input,model.encoder.stage_2[0]], agg_func)\n",
    "insp.start_tracking_activations()\n",
    "res = model(batch)\n",
    "insp.stop_tracking_activations()\n",
    "\n",
    "acts = insp.get_activations()\n",
    "print(acts)"
   ]
  },
  {
   "cell_type": "markdown",
   "metadata": {},
   "source": [
    "It is also possible to track activation gradients, but it is important to note that they do not work for a layer if the previous layer has an inplace operation."
   ]
  },
  {
   "cell_type": "code",
   "execution_count": 5,
   "metadata": {},
   "outputs": [],
   "source": [
    "insp = Inspector(model, [model.stage_input])\n",
    "insp.start_tracking_act_grads()\n",
    "res = model(batch)\n",
    "insp.stop_tracking_act_grads()\n",
    "loss = res.sum().backward()\n",
    "\n",
    "act_grads = insp.get_act_grads()"
   ]
  },
  {
   "cell_type": "markdown",
   "metadata": {},
   "source": [
    "### Model profiling"
   ]
  },
  {
   "cell_type": "code",
   "execution_count": 6,
   "metadata": {},
   "outputs": [
    {
     "name": "stdout",
     "output_type": "stream",
     "text": [
      "{'memory': 0.305875301361084, 'time_cpu': 0.004746437072753906, 'time_gpu': 0.027408063888549803, 'info': ['memory: GiB', 'time_cpu: s', 'time_gpu: s']}\n",
      "{'memory': 0.1378645896911621, 'time_cpu': 0.0015673637390136719, 'time_gpu': 0.005228544235229492, 'info': ['memory: GiB', 'time_cpu: s', 'time_gpu: s']}\n"
     ]
    }
   ],
   "source": [
    "tensor_shape = (8, 1, 224, 224)\n",
    "# Benchmark the model for training\n",
    "stats_train = benchmark_model(\n",
    "    model, tensor_shape, no_grad=False, call_backward=True, use_float16=True\n",
    "    )\n",
    "# Benchmark for inference\n",
    "stats_val = benchmark_model(\n",
    "    model, tensor_shape, no_grad=True, call_backward=False, use_float16=True\n",
    "    )\n",
    "# The units for each metric are also included in the dictionary\n",
    "print(stats_train)\n",
    "print(stats_val)"
   ]
  }
 ],
 "metadata": {
  "kernelspec": {
   "display_name": "pytorch",
   "language": "python",
   "name": "python3"
  },
  "language_info": {
   "codemirror_mode": {
    "name": "ipython",
    "version": 3
   },
   "file_extension": ".py",
   "mimetype": "text/x-python",
   "name": "python",
   "nbconvert_exporter": "python",
   "pygments_lexer": "ipython3",
   "version": "3.12.6"
  }
 },
 "nbformat": 4,
 "nbformat_minor": 2
}
