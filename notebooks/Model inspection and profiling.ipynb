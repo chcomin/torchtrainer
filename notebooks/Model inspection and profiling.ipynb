{
 "cells": [
  {
   "cell_type": "markdown",
   "metadata": {},
   "source": [
    "# Examples of using the model inspection class and the profiling functions\n",
    "\n",
    "The inspection class can gather model parameters, gradients, activations and activation gradients.\n",
    "\n",
    "The profiling module provide information about cpu and GPU timing, memory usage and flops operations."
   ]
  },
  {
   "cell_type": "code",
   "execution_count": 1,
   "metadata": {},
   "outputs": [],
   "source": [
    "import torch\n",
    "from torchtrainer.models.resunet import ResUNetV2\n",
    "from torchtrainer.inspector import Inspector\n",
    "from torchtrainer.profiling import benchmark_model\n",
    "\n",
    "# Dummy data. In a real application this should be a batch of the dataset.\n",
    "batch = torch.rand(8, 1, 224, 224)\n",
    "labels = torch.randint(0, 1000, (8,))\n",
    "\n",
    "model = ResUNetV2((3, 3, 3), (1, 1, 1), (16, 32, 64))\n",
    "model.eval();"
   ]
  },
  {
   "cell_type": "markdown",
   "metadata": {},
   "source": [
    "### Model inspection"
   ]
  },
  {
   "cell_type": "code",
   "execution_count": 2,
   "metadata": {},
   "outputs": [
    {
     "name": "stdout",
     "output_type": "stream",
     "text": [
      "('resunetv2.stage_input.0', 'resunetv2.stage_input.1', 'resunetv2.encoder.stage_0.0.conv1', 'resunetv2.encoder.stage_0.0.bn1', 'resunetv2.encoder.stage_0.0.conv2', 'resunetv2.encoder.stage_0.0.bn2', 'resunetv2.encoder.stage_0.0.residual_adj.0', 'resunetv2.encoder.stage_0.0.residual_adj.1', 'resunetv2.encoder.stage_0.0', 'resunetv2.encoder.stage_0.1.conv1')\n",
      "torch.Size([8, 16, 224, 224])\n"
     ]
    }
   ],
   "source": [
    "# Check intermediate activations of the model, as well as gradients and parameters\n",
    "insp = Inspector(model)\n",
    "# For activations, we need to explicitly start tracking to set up the forward hooks.\n",
    "insp.start_tracking_activations()\n",
    "\n",
    "# Apply model to batch\n",
    "res = model(batch)\n",
    "# Dummy calculation of loss and gradients, just as an example.\n",
    "loss = res.sum().backward()\n",
    "\n",
    "# Remove the forward hooks\n",
    "insp.stop_tracking_activations()\n",
    "\n",
    "# Activations\n",
    "acts = insp.get_activations()\n",
    "# Parameters\n",
    "params = insp.get_params()\n",
    "# Gradients\n",
    "grads = insp.get_grads()\n",
    "\n",
    "names, values = zip(*acts)\n",
    "print(names[:10])    # Names of the first 10 layers\n",
    "print(values[0].shape)  # Size of the activations of the first layer"
   ]
  },
  {
   "cell_type": "markdown",
   "metadata": {},
   "source": [
    "Tracking activations involves copying all the data from the GPU to the CPU (to preserve GPU memory), which is expensive. We can provide and aggregation function that will be applied to the data before copying"
   ]
  },
  {
   "cell_type": "code",
   "execution_count": 3,
   "metadata": {},
   "outputs": [
    {
     "name": "stdout",
     "output_type": "stream",
     "text": [
      "[('resunetv2.stage_input.0', tensor([-1.0450,  0.7769])), ('resunetv2.stage_input.1', tensor([-1.0450,  0.7769])), ('resunetv2.encoder.stage_0.0.conv1', tensor([-0.7046,  0.8440])), ('resunetv2.encoder.stage_0.0.bn1', tensor([-0.7046,  0.8440])), ('resunetv2.encoder.stage_0.0.conv2', tensor([-0.8168,  0.7232])), ('resunetv2.encoder.stage_0.0.bn2', tensor([-0.8168,  0.7232])), ('resunetv2.encoder.stage_0.0.residual_adj.0', tensor([-0.9841,  0.7573])), ('resunetv2.encoder.stage_0.0.residual_adj.1', tensor([-0.9841,  0.7573])), ('resunetv2.encoder.stage_0.0', tensor([0.0000, 1.2535])), ('resunetv2.encoder.stage_0.1.conv1', tensor([-1.1476,  1.4517])), ('resunetv2.encoder.stage_0.1.bn1', tensor([-1.1476,  1.4517])), ('resunetv2.encoder.stage_0.1.conv2', tensor([-1.8410,  1.1853])), ('resunetv2.encoder.stage_0.1.bn2', tensor([-1.8410,  1.1853])), ('resunetv2.encoder.stage_0.1', tensor([0.0000, 1.4357])), ('resunetv2.encoder.stage_0.2.conv1', tensor([-1.3182,  1.6929])), ('resunetv2.encoder.stage_0.2.bn1', tensor([-1.3182,  1.6929])), ('resunetv2.encoder.stage_0.2.conv2', tensor([-1.3660,  1.5292])), ('resunetv2.encoder.stage_0.2.bn2', tensor([-1.3660,  1.5292])), ('resunetv2.encoder.stage_0.2', tensor([0.0000, 2.2888])), ('resunetv2.encoder.stage_1.0.conv1', tensor([-1.4070,  1.7996])), ('resunetv2.encoder.stage_1.0.bn1', tensor([-1.4070,  1.7996])), ('resunetv2.encoder.stage_1.0.conv2', tensor([-1.5148,  1.6746])), ('resunetv2.encoder.stage_1.0.bn2', tensor([-1.5147,  1.6746])), ('resunetv2.encoder.stage_1.0.residual_adj.0', tensor([-1.7607,  1.5642])), ('resunetv2.encoder.stage_1.0.residual_adj.1', tensor([-1.7607,  1.5642])), ('resunetv2.encoder.stage_1.0', tensor([0.0000, 2.5410])), ('resunetv2.encoder.stage_1.1.conv1', tensor([-2.0421,  2.3444])), ('resunetv2.encoder.stage_1.1.bn1', tensor([-2.0421,  2.3444])), ('resunetv2.encoder.stage_1.1.conv2', tensor([-1.8254,  2.2195])), ('resunetv2.encoder.stage_1.1.bn2', tensor([-1.8254,  2.2194])), ('resunetv2.encoder.stage_1.1', tensor([0.0000, 3.7105])), ('resunetv2.encoder.stage_1.2.conv1', tensor([-4.1451,  3.8896])), ('resunetv2.encoder.stage_1.2.bn1', tensor([-4.1451,  3.8896])), ('resunetv2.encoder.stage_1.2.conv2', tensor([-3.7231,  3.5631])), ('resunetv2.encoder.stage_1.2.bn2', tensor([-3.7230,  3.5631])), ('resunetv2.encoder.stage_1.2', tensor([0.0000, 4.5427])), ('resunetv2.encoder.stage_2.0.conv1', tensor([-2.8023,  2.9655])), ('resunetv2.encoder.stage_2.0.bn1', tensor([-2.8023,  2.9655])), ('resunetv2.encoder.stage_2.0.conv2', tensor([-2.6367,  2.5263])), ('resunetv2.encoder.stage_2.0.bn2', tensor([-2.6367,  2.5263])), ('resunetv2.encoder.stage_2.0.residual_adj.0', tensor([-3.0288,  2.9629])), ('resunetv2.encoder.stage_2.0.residual_adj.1', tensor([-3.0288,  2.9629])), ('resunetv2.encoder.stage_2.0', tensor([0.0000, 4.2164])), ('resunetv2.encoder.stage_2.1.conv1', tensor([-3.5333,  4.3291])), ('resunetv2.encoder.stage_2.1.bn1', tensor([-3.5333,  4.3291])), ('resunetv2.encoder.stage_2.1.conv2', tensor([-3.2113,  3.6714])), ('resunetv2.encoder.stage_2.1.bn2', tensor([-3.2113,  3.6714])), ('resunetv2.encoder.stage_2.1', tensor([0.0000, 6.0679])), ('resunetv2.encoder.stage_2.2.conv1', tensor([-5.8578,  7.8594])), ('resunetv2.encoder.stage_2.2.bn1', tensor([-5.8578,  7.8594])), ('resunetv2.encoder.stage_2.2.conv2', tensor([-7.1986,  6.3477])), ('resunetv2.encoder.stage_2.2.bn2', tensor([-7.1986,  6.3476])), ('resunetv2.encoder.stage_2.2', tensor([0.0000, 8.1588])), ('resunetv2.decoder.stage_2.0.channel_adj.0', tensor([-17.4581,  13.2836])), ('resunetv2.decoder.stage_2.0.channel_adj.1', tensor([-17.4580,  13.2835])), ('resunetv2.decoder.stage_2.0.interpolate', tensor([ 0.0000, 13.2835])), ('resunetv2.decoder.stage_2.0', tensor([ 0.0000, 13.2835])), ('resunetv2.decoder.stage_2.1', tensor([ 0.0000, 13.2835])), ('resunetv2.decoder.stage_2.2.0.conv1', tensor([-15.6463,  14.4148])), ('resunetv2.decoder.stage_2.2.0.bn1', tensor([-15.6462,  14.4147])), ('resunetv2.decoder.stage_2.2.0.conv2', tensor([-12.2504,  12.1151])), ('resunetv2.decoder.stage_2.2.0.bn2', tensor([-12.2503,  12.1150])), ('resunetv2.decoder.stage_2.2.0.residual_adj.0', tensor([-14.3471,  13.6932])), ('resunetv2.decoder.stage_2.2.0.residual_adj.1', tensor([-14.3471,  13.6931])), ('resunetv2.decoder.stage_2.2.0', tensor([ 0.0000, 17.6991])), ('resunetv2.decoder.stage_1.0.channel_adj.0', tensor([-24.2493,  27.9060])), ('resunetv2.decoder.stage_1.0.channel_adj.1', tensor([-24.2491,  27.9058])), ('resunetv2.decoder.stage_1.0.interpolate', tensor([ 0.0000, 27.9058])), ('resunetv2.decoder.stage_1.0', tensor([ 0.0000, 27.9058])), ('resunetv2.decoder.stage_1.1', tensor([ 0.0000, 27.9058])), ('resunetv2.decoder.stage_1.2.0.conv1', tensor([-23.2791,  27.6325])), ('resunetv2.decoder.stage_1.2.0.bn1', tensor([-23.2790,  27.6323])), ('resunetv2.decoder.stage_1.2.0.conv2', tensor([-29.9635,  30.0469])), ('resunetv2.decoder.stage_1.2.0.bn2', tensor([-29.9633,  30.0467])), ('resunetv2.decoder.stage_1.2.0.residual_adj.0', tensor([-47.7138,  29.4731])), ('resunetv2.decoder.stage_1.2.0.residual_adj.1', tensor([-47.7136,  29.4730])), ('resunetv2.decoder.stage_1.2.0', tensor([ 0.0000, 31.7417])), ('resunetv2.decoder.stage_0.0.interpolate', tensor([ 0.0000, 31.7417])), ('resunetv2.decoder.stage_0.0', tensor([ 0.0000, 31.7417])), ('resunetv2.decoder.stage_0.1', tensor([ 0.0000, 31.7417])), ('resunetv2.decoder.stage_0.2.0.conv1', tensor([-21.9639,  37.2301])), ('resunetv2.decoder.stage_0.2.0.bn1', tensor([-21.9638,  37.2299])), ('resunetv2.decoder.stage_0.2.0.conv2', tensor([-41.3410,  47.9284])), ('resunetv2.decoder.stage_0.2.0.bn2', tensor([-41.3407,  47.9282])), ('resunetv2.decoder.stage_0.2.0.residual_adj.0', tensor([-36.5263,  25.8280])), ('resunetv2.decoder.stage_0.2.0.residual_adj.1', tensor([-36.5261,  25.8279])), ('resunetv2.decoder.stage_0.2.0', tensor([ 0.0000, 42.2352])), ('resunetv2.conv_output', tensor([-78.9709,  15.1002])), ('resunetv2', tensor([-78.9709,  15.1002]))]\n"
     ]
    }
   ],
   "source": [
    "def agg_func(data, module_name, data_type):\n",
    "    return torch.tensor([data.min(), data.max()])\n",
    "\n",
    "insp = Inspector(model, agg_func=agg_func)\n",
    "insp.start_tracking_activations()\n",
    "res = model(batch)\n",
    "insp.stop_tracking_activations()\n",
    "\n",
    "acts = insp.get_activations()\n",
    "print(acts)"
   ]
  },
  {
   "cell_type": "markdown",
   "metadata": {},
   "source": [
    "We can also only track individual modules"
   ]
  },
  {
   "cell_type": "code",
   "execution_count": 5,
   "metadata": {},
   "outputs": [
    {
     "name": "stdout",
     "output_type": "stream",
     "text": [
      "[('resunetv2.stage_input', tensor([0.0000, 0.7769])), ('resunetv2.encoder.stage_2.0', tensor([0.0000, 4.2164]))]\n"
     ]
    }
   ],
   "source": [
    "insp = Inspector(model, [model.stage_input,model.encoder.stage_2[0]], agg_func)\n",
    "insp.start_tracking_activations()\n",
    "res = model(batch)\n",
    "insp.stop_tracking_activations()\n",
    "\n",
    "acts = insp.get_activations()\n",
    "print(acts)"
   ]
  },
  {
   "cell_type": "markdown",
   "metadata": {},
   "source": [
    "It is also possible to track activation gradients, but it is important to note that they do not work for a layer if the previous layer has an inplace operation."
   ]
  },
  {
   "cell_type": "code",
   "execution_count": 6,
   "metadata": {},
   "outputs": [],
   "source": [
    "insp = Inspector(model, [model.stage_input])\n",
    "insp.start_tracking_act_grads()\n",
    "res = model(batch)\n",
    "insp.stop_tracking_act_grads()\n",
    "loss = res.sum().backward()\n",
    "\n",
    "act_grads = insp.get_act_grads()"
   ]
  },
  {
   "cell_type": "markdown",
   "metadata": {},
   "source": [
    "### Model profiling"
   ]
  },
  {
   "cell_type": "code",
   "execution_count": 7,
   "metadata": {},
   "outputs": [
    {
     "name": "stderr",
     "output_type": "stream",
     "text": [
      "Unsupported operator aten::batch_norm encountered 33 time(s)\n",
      "Unsupported operator aten::add_ encountered 12 time(s)\n",
      "Unsupported operator aten::upsample_nearest2d encountered 3 time(s)\n",
      "Unsupported operator aten::add_ encountered 12 time(s)\n"
     ]
    },
    {
     "name": "stdout",
     "output_type": "stream",
     "text": [
      "{'params': 0.320336, 'activations': 0.053989376, 'flops': 9.023250432, 'memory': 0.3600749969482422, 'time_cpu': 0.029000043869018555, 'time_gpu': 0.02601759910583496, 'info': ['params: M', 'activations: G', 'flops: G', 'memory: GiB', 'time_cpu: s', 'time_gpu: s']}\n",
      "{'params': 0.0, 'activations': 0.0, 'flops': 0.0, 'memory': 0.1539907455444336, 'time_cpu': 0.007998943328857422, 'time_gpu': 0.007321887969970703, 'info': ['params: M', 'activations: G', 'flops: G', 'memory: GiB', 'time_cpu: s', 'time_gpu: s']}\n"
     ]
    }
   ],
   "source": [
    "tensor_shape = (8, 1, 224, 224)\n",
    "# Benchmark the model for training\n",
    "stats_train = benchmark_model(model, tensor_shape, no_grad=False, call_backward=True, use_float16=True, return_model_info=True)\n",
    "# Benchmark for inference\n",
    "stats_val = benchmark_model(model, tensor_shape, no_grad=True, call_backward=False, use_float16=True, return_model_info=False)\n",
    "# The units for each metric are also included in the dictionary\n",
    "print(stats_train)\n",
    "print(stats_val)"
   ]
  }
 ],
 "metadata": {
  "kernelspec": {
   "display_name": "pytorch",
   "language": "python",
   "name": "python3"
  },
  "language_info": {
   "codemirror_mode": {
    "name": "ipython",
    "version": 3
   },
   "file_extension": ".py",
   "mimetype": "text/x-python",
   "name": "python",
   "nbconvert_exporter": "python",
   "pygments_lexer": "ipython3",
   "version": "3.10.13"
  }
 },
 "nbformat": 4,
 "nbformat_minor": 2
}
