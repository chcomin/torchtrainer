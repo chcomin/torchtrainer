{
 "cells": [
  {
   "cell_type": "markdown",
   "metadata": {},
   "source": [
    "# Examples of using the model inspection class and the profiling functions\n",
    "\n",
    "The inspection class can gather model parameters, gradients, activations and activation gradients.\n",
    "\n",
    "The profiling module provide information about cpu and GPU timing, memory usage and flops operations."
   ]
  },
  {
   "cell_type": "code",
   "execution_count": 8,
   "metadata": {},
   "outputs": [],
   "source": [
    "import torch\n",
    "from torchtrainer.models.resunet import ResUNet\n",
    "from torchtrainer.inspector import Inspector\n",
    "from torchtrainer.profiling import benchmark_model\n",
    "\n",
    "# Dummy data. In a real application this should be a batch of the dataset.\n",
    "batch = torch.rand(8, 1, 224, 224)\n",
    "labels = torch.randint(0, 1000, (8,))\n",
    "\n",
    "model = ResUNet((3, 3, 3), (16, 32, 64))\n",
    "model.eval();"
   ]
  },
  {
   "cell_type": "markdown",
   "metadata": {},
   "source": [
    "### Model inspection"
   ]
  },
  {
   "cell_type": "code",
   "execution_count": 10,
   "metadata": {},
   "outputs": [
    {
     "name": "stdout",
     "output_type": "stream",
     "text": [
      "('resunet.conv1', 'resunet.bn1', 'resunet.encoder.stage_0.0.conv1', 'resunet.encoder.stage_0.0.bn1', 'resunet.encoder.stage_0.0.conv2', 'resunet.encoder.stage_0.0.bn2', 'resunet.encoder.stage_0.0.downsample.0', 'resunet.encoder.stage_0.0.downsample.1', 'resunet.encoder.stage_0.0', 'resunet.encoder.stage_0.1.conv1')\n",
      "torch.Size([8, 16, 224, 224])\n"
     ]
    }
   ],
   "source": [
    "# Check intermediate activations of the model, as well as gradients and parameters\n",
    "insp = Inspector(model)\n",
    "# For activations, we need to explicitly start tracking to set up the forward hooks.\n",
    "insp.start_tracking_activations()\n",
    "\n",
    "# Apply model to batch\n",
    "res = model(batch)\n",
    "# Dummy calculation of loss and gradients, just as an example.\n",
    "loss = res.sum().backward()\n",
    "\n",
    "# Remove the forward hooks\n",
    "insp.stop_tracking_activations()\n",
    "\n",
    "# Activations\n",
    "acts = insp.get_activations()\n",
    "# Parameters\n",
    "params = insp.get_params()\n",
    "# Gradients\n",
    "grads = insp.get_grads()\n",
    "\n",
    "names, values = zip(*acts)\n",
    "print(names[:10])    # Names of the first 10 layers\n",
    "print(values[0].shape)  # Size of the activations of the first layer"
   ]
  },
  {
   "cell_type": "markdown",
   "metadata": {},
   "source": [
    "Tracking activations involves copying all the data from the GPU to the CPU (to preserve GPU memory), which is expensive. We can provide and aggregation function that will be applied to the data before copying"
   ]
  },
  {
   "cell_type": "code",
   "execution_count": 4,
   "metadata": {},
   "outputs": [
    {
     "name": "stdout",
     "output_type": "stream",
     "text": [
      "[('resunet.conv1', tensor([-0.7139,  0.8401])), ('resunet.bn1', tensor([-0.7139,  0.8401])), ('resunet.encoder.stage_0.0.conv1', tensor([-0.7861,  0.7654])), ('resunet.encoder.stage_0.0.bn1', tensor([-0.7861,  0.7654])), ('resunet.encoder.stage_0.0.conv2', tensor([-0.9031,  0.8212])), ('resunet.encoder.stage_0.0.bn2', tensor([-0.9031,  0.8212])), ('resunet.encoder.stage_0.0.downsample.0', tensor([-1.2285,  0.6469])), ('resunet.encoder.stage_0.0.downsample.1', tensor([-1.2285,  0.6469])), ('resunet.encoder.stage_0.0', tensor([0.0000, 0.9857])), ('resunet.encoder.stage_0.1.conv1', tensor([-0.7222,  0.7009])), ('resunet.encoder.stage_0.1.bn1', tensor([-0.7222,  0.7009])), ('resunet.encoder.stage_0.1.conv2', tensor([-0.6484,  0.6623])), ('resunet.encoder.stage_0.1.bn2', tensor([-0.6484,  0.6623])), ('resunet.encoder.stage_0.1', tensor([0.0000, 1.2762])), ('resunet.encoder.stage_0.2.conv1', tensor([-1.3137,  1.0437])), ('resunet.encoder.stage_0.2.bn1', tensor([-1.3137,  1.0437])), ('resunet.encoder.stage_0.2.conv2', tensor([-0.9206,  0.9670])), ('resunet.encoder.stage_0.2.bn2', tensor([-0.9206,  0.9670])), ('resunet.encoder.stage_0.2', tensor([0.0000, 1.8275])), ('resunet.encoder.stage_1.0.conv1', tensor([-1.1366,  1.4945])), ('resunet.encoder.stage_1.0.bn1', tensor([-1.1366,  1.4945])), ('resunet.encoder.stage_1.0.conv2', tensor([-1.1143,  1.5257])), ('resunet.encoder.stage_1.0.bn2', tensor([-1.1143,  1.5257])), ('resunet.encoder.stage_1.0.downsample.0', tensor([-1.0942,  1.4598])), ('resunet.encoder.stage_1.0.downsample.1', tensor([-1.0942,  1.4598])), ('resunet.encoder.stage_1.0', tensor([0.0000, 2.0500])), ('resunet.encoder.stage_1.1.conv1', tensor([-1.6915,  1.9394])), ('resunet.encoder.stage_1.1.bn1', tensor([-1.6915,  1.9394])), ('resunet.encoder.stage_1.1.conv2', tensor([-1.4769,  1.8778])), ('resunet.encoder.stage_1.1.bn2', tensor([-1.4769,  1.8778])), ('resunet.encoder.stage_1.1', tensor([0.0000, 3.0798])), ('resunet.encoder.stage_1.2.conv1', tensor([-2.6139,  3.3823])), ('resunet.encoder.stage_1.2.bn1', tensor([-2.6139,  3.3823])), ('resunet.encoder.stage_1.2.conv2', tensor([-3.1909,  4.1947])), ('resunet.encoder.stage_1.2.bn2', tensor([-3.1909,  4.1946])), ('resunet.encoder.stage_1.2', tensor([0.0000, 4.4222])), ('resunet.encoder.stage_2.0.conv1', tensor([-4.0838,  4.4429])), ('resunet.encoder.stage_2.0.bn1', tensor([-4.0838,  4.4429])), ('resunet.encoder.stage_2.0.conv2', tensor([-5.2396,  5.0858])), ('resunet.encoder.stage_2.0.bn2', tensor([-5.2395,  5.0858])), ('resunet.encoder.stage_2.0.downsample.0', tensor([-3.4858,  3.8259])), ('resunet.encoder.stage_2.0.downsample.1', tensor([-3.4857,  3.8259])), ('resunet.encoder.stage_2.0', tensor([0.0000, 6.3323])), ('resunet.encoder.stage_2.1.conv1', tensor([-7.8349,  6.5822])), ('resunet.encoder.stage_2.1.bn1', tensor([-7.8349,  6.5821])), ('resunet.encoder.stage_2.1.conv2', tensor([-6.1321,  5.6402])), ('resunet.encoder.stage_2.1.bn2', tensor([-6.1321,  5.6402])), ('resunet.encoder.stage_2.1', tensor([0.0000, 8.4242])), ('resunet.encoder.stage_2.2.conv1', tensor([-8.2018,  8.8803])), ('resunet.encoder.stage_2.2.bn1', tensor([-8.2017,  8.8803])), ('resunet.encoder.stage_2.2.conv2', tensor([-8.2466,  8.1753])), ('resunet.encoder.stage_2.2.bn2', tensor([-8.2466,  8.1752])), ('resunet.encoder.stage_2.2', tensor([ 0.0000, 11.3431])), ('resunet.mid_block.conv1', tensor([-15.1478,  13.2545])), ('resunet.mid_block.bn1', tensor([-15.1477,  13.2544])), ('resunet.mid_block.conv2', tensor([-14.3847,  14.9727])), ('resunet.mid_block.bn2', tensor([-14.3846,  14.9726])), ('resunet.mid_block', tensor([ 0.0000, 18.2513])), ('resunet.decoder.stage_2.0.conv.0', tensor([-19.7849,  20.1488])), ('resunet.decoder.stage_2.0.conv.1', tensor([-19.7848,  20.1487])), ('resunet.decoder.stage_2.0.interpolate', tensor([ 0.0000, 20.1487])), ('resunet.decoder.stage_2.0', tensor([ 0.0000, 20.1487])), ('resunet.decoder.stage_2.1', tensor([ 0.0000, 20.1487])), ('resunet.decoder.stage_2.2.0.conv1', tensor([-27.1520,  24.2660])), ('resunet.decoder.stage_2.2.0.bn1', tensor([-27.1518,  24.2659])), ('resunet.decoder.stage_2.2.0.conv2', tensor([-17.4453,  23.8297])), ('resunet.decoder.stage_2.2.0.bn2', tensor([-17.4452,  23.8295])), ('resunet.decoder.stage_2.2.0.downsample.0', tensor([-21.5501,  29.0663])), ('resunet.decoder.stage_2.2.0.downsample.1', tensor([-21.5499,  29.0661])), ('resunet.decoder.stage_2.2.0', tensor([ 0.0000, 46.6187])), ('resunet.decoder.stage_2.2.1.conv1', tensor([-46.4744,  62.7961])), ('resunet.decoder.stage_2.2.1.bn1', tensor([-46.4741,  62.7958])), ('resunet.decoder.stage_2.2.1.conv2', tensor([-50.5522,  49.5946])), ('resunet.decoder.stage_2.2.1.bn2', tensor([-50.5519,  49.5943])), ('resunet.decoder.stage_2.2.1', tensor([ 0.0000, 63.3619])), ('resunet.decoder.stage_2.2.2.conv1', tensor([-74.0770,  74.1125])), ('resunet.decoder.stage_2.2.2.bn1', tensor([-74.0766,  74.1122])), ('resunet.decoder.stage_2.2.2.conv2', tensor([-64.0943,  88.8160])), ('resunet.decoder.stage_2.2.2.bn2', tensor([-64.0940,  88.8156])), ('resunet.decoder.stage_2.2.2', tensor([  0.0000, 131.4118])), ('resunet.decoder.stage_1.0.conv.0', tensor([-257.2201,  180.3845])), ('resunet.decoder.stage_1.0.conv.1', tensor([-257.2188,  180.3836])), ('resunet.decoder.stage_1.0.interpolate', tensor([  0.0000, 180.3836])), ('resunet.decoder.stage_1.0', tensor([  0.0000, 180.3836])), ('resunet.decoder.stage_1.1', tensor([  0.0000, 180.3836])), ('resunet.decoder.stage_1.2.0.conv1', tensor([-188.7780,  159.1724])), ('resunet.decoder.stage_1.2.0.bn1', tensor([-188.7771,  159.1716])), ('resunet.decoder.stage_1.2.0.conv2', tensor([-148.5419,  118.1944])), ('resunet.decoder.stage_1.2.0.bn2', tensor([-148.5412,  118.1938])), ('resunet.decoder.stage_1.2.0.downsample.0', tensor([-268.5356,  204.2066])), ('resunet.decoder.stage_1.2.0.downsample.1', tensor([-268.5343,  204.2056])), ('resunet.decoder.stage_1.2.0', tensor([  0.0000, 265.5252])), ('resunet.decoder.stage_1.2.1.conv1', tensor([-158.1843,  504.9822])), ('resunet.decoder.stage_1.2.1.bn1', tensor([-158.1835,  504.9797])), ('resunet.decoder.stage_1.2.1.conv2', tensor([-490.9432,  658.6737])), ('resunet.decoder.stage_1.2.1.bn2', tensor([-490.9407,  658.6704])), ('resunet.decoder.stage_1.2.1', tensor([  0.0000, 688.9052])), ('resunet.decoder.stage_1.2.2.conv1', tensor([-841.5206,  937.7650])), ('resunet.decoder.stage_1.2.2.bn1', tensor([-841.5164,  937.7603])), ('resunet.decoder.stage_1.2.2.conv2', tensor([-767.4742,  925.0317])), ('resunet.decoder.stage_1.2.2.bn2', tensor([-767.4704,  925.0271])), ('resunet.decoder.stage_1.2.2', tensor([  0.0000, 925.0271])), ('resunet.decoder.stage_0.0.interpolate', tensor([  0.0000, 925.0271])), ('resunet.decoder.stage_0.0', tensor([  0.0000, 925.0271])), ('resunet.decoder.stage_0.1', tensor([  0.0000, 925.0271])), ('resunet.decoder.stage_0.2.0.conv1', tensor([-1086.5876,   876.3737])), ('resunet.decoder.stage_0.2.0.bn1', tensor([-1086.5822,   876.3693])), ('resunet.decoder.stage_0.2.0.conv2', tensor([-1159.4994,  1143.9331])), ('resunet.decoder.stage_0.2.0.bn2', tensor([-1159.4935,  1143.9274])), ('resunet.decoder.stage_0.2.0.downsample.0', tensor([-851.6629, 1171.7128])), ('resunet.decoder.stage_0.2.0.downsample.1', tensor([-851.6586, 1171.7069])), ('resunet.decoder.stage_0.2.0', tensor([   0.0000, 1712.8579])), ('resunet.decoder.stage_0.2.1.conv1', tensor([-1586.1942,  2131.3606])), ('resunet.decoder.stage_0.2.1.bn1', tensor([-1586.1863,  2131.3499])), ('resunet.decoder.stage_0.2.1.conv2', tensor([-795.7213, 2256.5764])), ('resunet.decoder.stage_0.2.1.bn2', tensor([-795.7173, 2256.5652])), ('resunet.decoder.stage_0.2.1', tensor([   0.0000, 3424.7209])), ('resunet.decoder.stage_0.2.2.conv1', tensor([-3206.7581,  3699.6992])), ('resunet.decoder.stage_0.2.2.bn1', tensor([-3206.7419,  3699.6807])), ('resunet.decoder.stage_0.2.2.conv2', tensor([-6354.1436,  6688.4092])), ('resunet.decoder.stage_0.2.2.bn2', tensor([-6354.1118,  6688.3755])), ('resunet.decoder.stage_0.2.2', tensor([   0.0000, 9429.0557])), ('resunet.conv_output', tensor([-6420.9761,  2890.1738])), ('resunet', tensor([-6420.9761,  2890.1738]))]\n"
     ]
    }
   ],
   "source": [
    "def agg_func(data, module_name, data_type):\n",
    "    return torch.tensor([data.min(), data.max()])\n",
    "\n",
    "insp = Inspector(model, agg_func=agg_func)\n",
    "insp.start_tracking_activations()\n",
    "res = model(batch)\n",
    "insp.stop_tracking_activations()\n",
    "\n",
    "acts = insp.get_activations()\n",
    "print(acts)"
   ]
  },
  {
   "cell_type": "markdown",
   "metadata": {},
   "source": [
    "We can also only track individual modules"
   ]
  },
  {
   "cell_type": "code",
   "execution_count": 5,
   "metadata": {},
   "outputs": [
    {
     "name": "stdout",
     "output_type": "stream",
     "text": [
      "[('resunet.conv1', tensor([-0.7139,  0.8401])), ('resunet.mid_block', tensor([ 0.0000, 18.2513]))]\n"
     ]
    }
   ],
   "source": [
    "insp = Inspector(model, [model.conv1,model.mid_block], agg_func)\n",
    "insp.start_tracking_activations()\n",
    "res = model(batch)\n",
    "insp.stop_tracking_activations()\n",
    "\n",
    "acts = insp.get_activations()\n",
    "print(acts)"
   ]
  },
  {
   "cell_type": "markdown",
   "metadata": {},
   "source": [
    "It is also possible to track activation gradients, but it is important to note that they do not work for a layer if the previous layer has an inplace operation."
   ]
  },
  {
   "cell_type": "code",
   "execution_count": 6,
   "metadata": {},
   "outputs": [],
   "source": [
    "insp = Inspector(model, [model.conv1])\n",
    "insp.start_tracking_act_grads()\n",
    "res = model(batch)\n",
    "insp.stop_tracking_act_grads()\n",
    "loss = res.sum().backward()\n",
    "\n",
    "act_grads = insp.get_act_grads()"
   ]
  },
  {
   "cell_type": "markdown",
   "metadata": {},
   "source": [
    "### Model profiling"
   ]
  },
  {
   "cell_type": "code",
   "execution_count": 7,
   "metadata": {},
   "outputs": [
    {
     "name": "stderr",
     "output_type": "stream",
     "text": [
      "Unsupported operator aten::batch_norm encountered 47 time(s)\n",
      "Unsupported operator aten::add_ encountered 19 time(s)\n",
      "Unsupported operator aten::upsample_nearest2d encountered 3 time(s)\n",
      "Unsupported operator aten::add_ encountered 19 time(s)\n"
     ]
    },
    {
     "name": "stdout",
     "output_type": "stream",
     "text": [
      "{'params': 0.450128, 'activations': 0.090116096, 'flops': 15.10699008, 'memory': 0.39917755126953125, 'time_cpu': 0.029001474380493164, 'time_gpu': 0.028121088027954103, 'info': ['params: M', 'activations: G', 'flops: G', 'memory: GiB', 'time_cpu: s', 'time_gpu: s']}\n",
      "{'params': 0.0, 'activations': 0.0, 'flops': 0.0, 'memory': 0.15419673919677734, 'time_cpu': 0.012001514434814453, 'time_gpu': 0.010200063705444335, 'info': ['params: M', 'activations: G', 'flops: G', 'memory: GiB', 'time_cpu: s', 'time_gpu: s']}\n"
     ]
    }
   ],
   "source": [
    "tensor_shape = (8, 1, 224, 224)\n",
    "# Benchmark the model for training\n",
    "stats_train = benchmark_model(model, tensor_shape, no_grad=False, call_backward=True, use_float16=True, return_model_info=True)\n",
    "# Benchmark for inference\n",
    "stats_val = benchmark_model(model, tensor_shape, no_grad=True, call_backward=False, use_float16=True, return_model_info=False)\n",
    "# The units for each metric are also included in the dictionary\n",
    "print(stats_train)\n",
    "print(stats_val)"
   ]
  }
 ],
 "metadata": {
  "kernelspec": {
   "display_name": "pytorch",
   "language": "python",
   "name": "python3"
  },
  "language_info": {
   "codemirror_mode": {
    "name": "ipython",
    "version": 3
   },
   "file_extension": ".py",
   "mimetype": "text/x-python",
   "name": "python",
   "nbconvert_exporter": "python",
   "pygments_lexer": "ipython3",
   "version": "3.10.13"
  }
 },
 "nbformat": 4,
 "nbformat_minor": 2
}
