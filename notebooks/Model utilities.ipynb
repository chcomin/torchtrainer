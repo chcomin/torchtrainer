{
 "cells": [
  {
   "cell_type": "markdown",
   "metadata": {},
   "source": [
    "Examples of utilities for working with Pytorch modules"
   ]
  },
  {
   "cell_type": "markdown",
   "metadata": {},
   "source": [
    "## Hooks"
   ]
  },
  {
   "cell_type": "markdown",
   "metadata": {},
   "source": [
    "### Hook class"
   ]
  },
  {
   "cell_type": "code",
   "execution_count": 1,
   "metadata": {},
   "outputs": [
    {
     "name": "stdout",
     "output_type": "stream",
     "text": [
      "torch.Size([16, 256, 56, 56])\n"
     ]
    }
   ],
   "source": [
    "import torch\n",
    "from torchvision.models import resnet50\n",
    "\n",
    "from torchtrainer.util.module_util import FeatureExtractor, Hook\n",
    "\n",
    "# Example batch and model\n",
    "batch = torch.rand(16, 3, 224, 224)\n",
    "model = resnet50()\n",
    "\n",
    "# Create hook for a layer\n",
    "hook = Hook(model.layer1)\n",
    "\n",
    "# Apply model to data. The .activation attribute of the hook will be populated with\n",
    "# the activation of thet layer\n",
    "_ = model(batch)\n",
    "act = hook.activation\n",
    "print(act.shape)\n",
    "\n",
    "# We can also remove the hook if necessary\n",
    "hook.remove()"
   ]
  },
  {
   "cell_type": "markdown",
   "metadata": {},
   "source": [
    "### FeatureExtractor class"
   ]
  },
  {
   "cell_type": "code",
   "execution_count": 2,
   "metadata": {},
   "outputs": [
    {
     "name": "stdout",
     "output_type": "stream",
     "text": [
      "relu torch.Size([16, 64, 112, 112])\n",
      "layer1 torch.Size([16, 256, 56, 56])\n",
      "layer2 torch.Size([16, 512, 28, 28])\n",
      "layer3 torch.Size([16, 1024, 14, 14])\n",
      "layer4 torch.Size([16, 2048, 7, 7])\n",
      "out torch.Size([16, 1000])\n"
     ]
    }
   ],
   "source": [
    "# Layers to capture activations\n",
    "modules = [\"relu\", \"layer1\", \"layer2\", \"layer3\", \"layer4\"]\n",
    "features = FeatureExtractor(model, modules)\n",
    "\n",
    "# Apply model to the batch. `acts` will be a dictionary with the activations\n",
    "acts = features(batch)\n",
    "for k, v in acts.items():\n",
    "    print(k, v.shape)"
   ]
  },
  {
   "cell_type": "markdown",
   "metadata": {},
   "source": [
    "## Receptive field\n",
    "\n",
    "We can also capture the receptive field of a neural network"
   ]
  },
  {
   "cell_type": "code",
   "execution_count": 3,
   "metadata": {},
   "outputs": [
    {
     "data": {
      "image/png": "[encoded data removed]",
      "text/plain": [
       "<Figure size 1200x400 with 5 Axes>"
      ]
     },
     "metadata": {},
     "output_type": "display_data"
    }
   ],
   "source": [
    "import matplotlib.pyplot as plt\n",
    "from torchvision.models import resnet\n",
    "\n",
    "from torchtrainer.util.module_util import ReceptiveField\n",
    "\n",
    "model = resnet.resnet50()\n",
    "modules = [\"relu\", \"layer1\", \"layer2\", \"layer3\", \"layer4\"]\n",
    "receptive_field = ReceptiveField(model)\n",
    "\n",
    "rfs = []\n",
    "for name in modules:\n",
    "    rfs.append(receptive_field.receptive_field(name, num_channels=3))\n",
    "\n",
    "fig, ax = plt.subplots(1, 5, figsize=(12,4))\n",
    "for idx, (name, rf) in enumerate(zip(modules, rfs)):\n",
    "    ax[idx].imshow(rf, \"gray\")\n",
    "    ax[idx].set_title(f\"Module {name}\")"
   ]
  },
  {
   "cell_type": "markdown",
   "metadata": {},
   "source": [
    "Notice that the central region of the receptive fields have larger weights. We can also binarize the receptive field to get all pixels that have an influence on the output:"
   ]
  },
  {
   "cell_type": "code",
   "execution_count": 4,
   "metadata": {},
   "outputs": [
    {
     "data": {
      "image/png": "[encoded data removed]",
      "text/plain": [
       "<Figure size 1200x400 with 5 Axes>"
      ]
     },
     "metadata": {},
     "output_type": "display_data"
    }
   ],
   "source": [
    "fig, ax = plt.subplots(1, 5, figsize=(12,4))\n",
    "for idx, (name, rf) in enumerate(zip(modules, rfs)):\n",
    "    ax[idx].imshow(rf>0, \"gray\")\n",
    "    ax[idx].set_title(f\"Module {name}\")"
   ]
  },
  {
   "cell_type": "code",
   "execution_count": null,
   "metadata": {},
   "outputs": [],
   "source": [
    "models = [\n",
    "    resnet.resnet18(), resnet.resnet34(), resnet.resnet50(), resnet.resnet101(), resnet.resnet152()\n",
    "    ]\n",
    "rfs = []\n",
    "for model in models:\n",
    "    receptive_field = ReceptiveField(model)\n",
    "    rfs.append(receptive_field.receptive_field(\"layer4\", num_channels=3, img_size=(512, 512)))\n",
    "\n",
    "fig, ax = plt.subplots(1, 5, figsize=(12,4))\n",
    "names = [\"resnet18\", \"resnet34\", \"resnet50\", \"resnet101\", \"resnet152\"]\n",
    "for idx, (name, rf) in enumerate(zip(names, rfs)):\n",
    "    ax[idx].imshow(rf, \"gray\")\n",
    "    ax[idx].set_title(f\"Model {name}\")"
   ]
  },
  {
   "cell_type": "markdown",
   "metadata": {},
   "source": [
    "Notice that the receptive field of the ResNet50 model is smaller than ResNet34!"
   ]
  },
  {
   "cell_type": "markdown",
   "metadata": {},
   "source": []
  }
 ],
 "metadata": {
  "kernelspec": {
   "display_name": "pytorch",
   "language": "python",
   "name": "python3"
  },
  "language_info": {
   "codemirror_mode": {
    "name": "ipython",
    "version": 3
   },
   "file_extension": ".py",
   "mimetype": "text/x-python",
   "name": "python",
   "nbconvert_exporter": "python",
   "pygments_lexer": "ipython3",
   "version": "3.12.6"
  }
 },
 "nbformat": 4,
 "nbformat_minor": 2
}
