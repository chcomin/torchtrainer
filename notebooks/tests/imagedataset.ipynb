{
 "cells": [
  {
   "cell_type": "code",
   "execution_count": 1,
   "id": "bebd19d9",
   "metadata": {},
   "outputs": [],
   "source": [
    "%load_ext autoreload\n",
    "%autoreload 2\n",
    "\n",
    "import sys\n",
    "sys.path.insert(0,'../../')"
   ]
  },
  {
   "cell_type": "code",
   "execution_count": 2,
   "id": "b1c02b87",
   "metadata": {},
   "outputs": [],
   "source": [
    "import numpy as np\n",
    "import matplotlib.pyplot as plt\n",
    "from pathlib import Path\n",
    "from torchtrainer import img_util\n",
    "from torchtrainer import transforms\n",
    "import imgaug.augmenters as iaa\n",
    "import re\n",
    "from torch.utils.data import dataloader as torch_dataloader\n",
    "from functools import partial\n",
    "import torch\n",
    "from torchtrainer.imagedataset import (ImageDataset, ImageSegmentationDataset, \n",
    "                                       ImagePatchDataset, ImagePatchSegmentationDataset)"
   ]
  },
  {
   "cell_type": "code",
   "execution_count": 9,
   "id": "df455a4b",
   "metadata": {},
   "outputs": [],
   "source": [
    "# Create dataloaders\n",
    "def name_to_label_map(img_filename):\n",
    "    '''Maps image names to labels names in the DRIVE dataset\n",
    "    \n",
    "    Parameters\n",
    "    ----------\n",
    "    img_filename : string\n",
    "        Filename of an image\n",
    "        \n",
    "    Returns\n",
    "    -------\n",
    "    label_filename : string\n",
    "        Filename of the corresponding label image\n",
    "    '''  \n",
    "    \n",
    "    m = re.match('(\\d\\d)_[training|test]', img_filename)\n",
    "    index = int(m.group(1))\n",
    "    if index<30:\n",
    "        return 0\n",
    "    else:\n",
    "        return 1\n",
    "    \n",
    "def name_to_label_path_map(img_filename):\n",
    "    '''Maps image names to labels names in the DRIVE dataset\n",
    "    \n",
    "    Parameters\n",
    "    ----------\n",
    "    img_filename : string\n",
    "        Filename of an image\n",
    "        \n",
    "    Returns\n",
    "    -------\n",
    "    label_filename : string\n",
    "        Filename of the corresponding label image\n",
    "    '''  \n",
    "    \n",
    "    m = re.match('(\\d\\d)_[training|test]', img_filename)\n",
    "    index = m.group(1)\n",
    "    label_filename = index + '_manual1.gif'\n",
    "    \n",
    "    return label_filename\n",
    "\n",
    "def filename_filter(img_filename, test=False):\n",
    "    '''Filter DRIVE images for getting only training or test images.\n",
    "    \n",
    "    Parameters\n",
    "    ----------\n",
    "    img_filename : string\n",
    "        Filename of an image\n",
    "    test : bool\n",
    "        If True, the function checks if the image should be in the test set\n",
    "    \n",
    "    Returns\n",
    "    -------\n",
    "    bool\n",
    "        If `test` is False, returns True if the image should be in the training set and\n",
    "        False if it should be in the test set. Return values are reversed if `test` is True\n",
    "    '''\n",
    "    \n",
    "    if test:\n",
    "        return 'test' in img_filename\n",
    "    else:\n",
    "        return 'test' not in img_filename\n",
    "\n",
    "root_dir = Path('../../../research/drive/data/DRIVE')\n",
    "img_dir = root_dir/'images'\n",
    "label_dir = root_dir/'labels'\n",
    "mask_dir = root_dir/'mask'\n",
    "\n",
    "# Create functions for using in the dataset creation\n",
    "img_opener_partial = partial(img_util.pil_img_opener, channel=None)\n",
    "label_opener_partial = partial(img_util.pil_img_opener, is_label=True)\n",
    "\n",
    "# Image transformations\n",
    "imgaug_seq = iaa.Sequential([\n",
    "                            iaa.Resize({\"height\": 500, \"width\": 500}),\n",
    "                            ])\n",
    "transform_funcs = transforms.seq_pil_to_imgaug_to_tensor(imgaug_seq)\n",
    "imgaug_seq = iaa.Sequential([\n",
    "                            iaa.Resize({\"height\": 200, \"width\": 200}),\n",
    "                            ])\n",
    "transform_funcs2 = [transforms.TransfToImgaug(), transforms.translate_imagaug_seq(imgaug_seq), \n",
    "                    transforms.TransfToTensor()]"
   ]
  },
  {
   "cell_type": "code",
   "execution_count": 21,
   "id": "efb5cef1",
   "metadata": {
    "scrolled": false
   },
   "outputs": [
    {
     "name": "stdout",
     "output_type": "stream",
     "text": [
      "torch.Size([200, 200])\n",
      "[tensor([[[  0,   0,   0,  ...,   0,   0,   0],\n",
      "         [  0,   0,   0,  ...,   0,   0,   0],\n",
      "         [  0,   0,   0,  ...,   0,   0,   0],\n",
      "         ...,\n",
      "         [  9,   9,   9,  ..., 218, 219, 220],\n",
      "         [ 10,  10,  10,  ..., 220, 220, 220],\n",
      "         [ 10,  10,  10,  ..., 221, 220, 220]],\n",
      "\n",
      "        [[  0,   0,   0,  ...,   0,   0,   0],\n",
      "         [  0,   0,   0,  ...,   0,   0,   0],\n",
      "         [  0,   0,   0,  ...,   0,   0,   0],\n",
      "         ...,\n",
      "         [  8,   8,   8,  ..., 133, 134, 134],\n",
      "         [  9,   9,   9,  ..., 134, 134, 134],\n",
      "         [  9,   9,  10,  ..., 135, 134, 134]],\n",
      "\n",
      "        [[  0,   0,   0,  ...,   0,   0,   0],\n",
      "         [  0,   0,   0,  ...,   0,   0,   0],\n",
      "         [  0,   0,   0,  ...,   0,   0,   0],\n",
      "         ...,\n",
      "         [  6,   6,   6,  ...,  79,  79,  80],\n",
      "         [  7,   7,   7,  ...,  82,  81,  81],\n",
      "         [  7,   7,   8,  ...,  83,  83,  82]]], dtype=torch.uint8), tensor([[0, 0, 0,  ..., 0, 0, 0],\n",
      "        [0, 0, 0,  ..., 0, 0, 0],\n",
      "        [0, 0, 0,  ..., 0, 0, 0],\n",
      "        ...,\n",
      "        [0, 0, 0,  ..., 0, 0, 0],\n",
      "        [0, 0, 0,  ..., 0, 0, 0],\n",
      "        [0, 0, 0,  ..., 0, 0, 0]])]\n"
     ]
    }
   ],
   "source": [
    "# Create ImageDataset instance\n",
    "#dataset = ImageDataset(img_dir, name_to_label_map=name_to_label_map, filename_filter=filename_filter, \n",
    "#                       img_opener=img_opener_partial, transforms=transform_funcs, cache_size = 3*584*565*3)\n",
    "#dataset = ImageSegmentationDataset(img_dir, label_dir, name_to_label_map=name_to_label_path_map, \n",
    "#                                   filename_filter=filename_filter, img_opener=img_opener_partial, \n",
    "#                                   label_opener=label_opener_partial, transforms=transform_funcs, cache_size = 3*584*565*3)\n",
    "#dataset = ImagePatchDataset((100, 100), img_dir, name_to_label_map=name_to_label_map, filename_filter=filename_filter, \n",
    "#                            img_opener=img_opener_partial, transforms=transform_funcs, \n",
    "#                            patch_transforms=transform_funcs2, cache_size = 40*584*565*3)\n",
    "dataset = ImagePatchSegmentationDataset((100, 100), img_dir, label_dir, stride=(50, 50), name_to_label_map=name_to_label_path_map, \n",
    "                                   filename_filter=filename_filter, img_opener=img_opener_partial, \n",
    "                                   label_opener=label_opener_partial, transforms=transform_funcs, patch_transforms=transform_funcs2, cache_size = 40*584*565*3)\n",
    "\n",
    "print(dataset[0])\n",
    "#dataset.check_dataset()\n",
    "#imgs, labels = dataset.as_tensor()\n",
    "#train_ds, valid_ds = dataset.split_train_val(0.2)\n",
    "\n",
    "# We can grab all images as tensor\n",
    "#x_train,y_train = train_ds.as_tensor()\n",
    "#x_valid,y_valid = valid_ds.as_tensor()\n",
    "\n",
    "# Or create a dataloader\n",
    "#train_dl = torch_dataloader.DataLoader(train_ds, batch_size=4, shuffle=True)\n",
    "#valid_dl = torch_dataloader.DataLoader(valid_ds, batch_size=4, shuffle=False)"
   ]
  },
  {
   "cell_type": "code",
   "execution_count": 11,
   "id": "3cc3382a",
   "metadata": {},
   "outputs": [
    {
     "data": {
      "text/plain": [
       "<matplotlib.image.AxesImage at 0x15a1521fd88>"
      ]
     },
     "execution_count": 11,
     "metadata": {},
     "output_type": "execute_result"
    },
    {
     "data": {
      "image/png": "[encoded data removed]",
      "text/plain": [
       "<Figure size 432x288 with 1 Axes>"
      ]
     },
     "metadata": {
      "needs_background": "light"
     },
     "output_type": "display_data"
    },
    {
     "data": {
      "image/png": "[encoded data removed]",
      "text/plain": [
       "<Figure size 432x288 with 1 Axes>"
      ]
     },
     "metadata": {
      "needs_background": "light"
     },
     "output_type": "display_data"
    }
   ],
   "source": [
    "plt.imshow(dataset[1][0].permute(1, 2, 0))\n",
    "plt.figure()\n",
    "plt.imshow(dataset[1][1], 'gray')"
   ]
  },
  {
   "cell_type": "code",
   "execution_count": 21,
   "id": "6495cf7f",
   "metadata": {},
   "outputs": [
    {
     "name": "stdout",
     "output_type": "stream",
     "text": [
      "26396800\n",
      "dict_keys([0, 1, 2, 3, 4, 5, 6, 7, 8, 9, 10, 11, 12, 13, 14, 15, 16, 17, 18, 19])\n"
     ]
    }
   ],
   "source": [
    "cm = dataset.cache_manager\n",
    "print(cm.cache_size)\n",
    "print(cm.data.keys())"
   ]
  },
  {
   "cell_type": "code",
   "execution_count": 19,
   "id": "2bbb9030",
   "metadata": {
    "code_folding": []
   },
   "outputs": [
    {
     "data": {
      "text/plain": [
       "torch.Size([200])"
      ]
     },
     "execution_count": 19,
     "metadata": {},
     "output_type": "execute_result"
    }
   ],
   "source": [
    "dataset[0][1].shape"
   ]
  },
  {
   "cell_type": "code",
   "execution_count": 29,
   "id": "dd974cbe",
   "metadata": {},
   "outputs": [
    {
     "name": "stdout",
     "output_type": "stream",
     "text": [
      "Running D.__init__\n",
      "Running B.__init__\n",
      "Running A.__init__\n",
      "None\n"
     ]
    }
   ],
   "source": [
    "class A(object):\n",
    "    def __init__(self):\n",
    "        print('Running A.__init__')\n",
    "        super(A,self).__init__()\n",
    "class B(A):\n",
    "    def __init__(self):\n",
    "        print('Running B.__init__')        \n",
    "        # super(B,self).__init__()\n",
    "        A.__init__(self) \n",
    "\n",
    "class C(A):\n",
    "    def __init__(self):\n",
    "        print('Running C.__init__')\n",
    "        super(C,self).__init__()\n",
    "class D(B,C):\n",
    "    def __init__(self):\n",
    "        print('Running D.__init__')\n",
    "        super(D,self).__init__()\n",
    "\n",
    "foo=D()"
   ]
  },
  {
   "cell_type": "code",
   "execution_count": 6,
   "id": "c42b396f",
   "metadata": {},
   "outputs": [
    {
     "data": {
      "text/plain": [
       "[torchtrainer.imagedataset.ImagePatchSegmentationDataset,\n",
       " torchtrainer.imagedataset.ImageSegmentationDataset,\n",
       " torchtrainer.imagedataset.ImageDataset,\n",
       " torch.utils.data.dataset.Dataset,\n",
       " typing.Generic,\n",
       " object]"
      ]
     },
     "execution_count": 6,
     "metadata": {},
     "output_type": "execute_result"
    }
   ],
   "source": [
    "ImagePatchSegmentationDataset.mro()"
   ]
  },
  {
   "cell_type": "code",
   "execution_count": 1,
   "id": "899e8a47",
   "metadata": {},
   "outputs": [
    {
     "ename": "NameError",
     "evalue": "name 'iaa' is not defined",
     "output_type": "error",
     "traceback": [
      "\u001b[1;31m---------------------------------------------------------------------------\u001b[0m",
      "\u001b[1;31mNameError\u001b[0m                                 Traceback (most recent call last)",
      "\u001b[1;32m<ipython-input-1-458f41f10080>\u001b[0m in \u001b[0;36m<module>\u001b[1;34m()\u001b[0m\n\u001b[0;32m     12\u001b[0m \u001b[1;33m\u001b[0m\u001b[0m\n\u001b[0;32m     13\u001b[0m \u001b[1;33m\u001b[0m\u001b[0m\n\u001b[1;32m---> 14\u001b[1;33m imgaug_seq = iaa.Sequential([\n\u001b[0m\u001b[0;32m     15\u001b[0m                             \u001b[0miaa\u001b[0m\u001b[1;33m.\u001b[0m\u001b[0mResize\u001b[0m\u001b[1;33m(\u001b[0m\u001b[1;33m{\u001b[0m\u001b[1;34m\"height\"\u001b[0m\u001b[1;33m:\u001b[0m \u001b[1;36m500\u001b[0m\u001b[1;33m,\u001b[0m \u001b[1;34m\"width\"\u001b[0m\u001b[1;33m:\u001b[0m \u001b[1;36m500\u001b[0m\u001b[1;33m}\u001b[0m\u001b[1;33m)\u001b[0m\u001b[1;33m,\u001b[0m\u001b[1;33m\u001b[0m\u001b[1;33m\u001b[0m\u001b[0m\n\u001b[0;32m     16\u001b[0m                             ])\n",
      "\u001b[1;31mNameError\u001b[0m: name 'iaa' is not defined"
     ]
    }
   ],
   "source": [
    "def img_opener(img_file_path, is_label=False):\n",
    "    \n",
    "    if is_label: \n",
    "        img = torch.randint(0, 2, (50, 500, 500)) #np.random.randint(0, 2, (50, 500, 500))\n",
    "    else:\n",
    "        img = torch.randint(0, 256, (50, 500, 500)) #np.random.randint(0, 256, (50, 500, 500))\n",
    "        \n",
    "    return img\n",
    "\n",
    "patch_size = (50, 100, 100)\n",
    "stride = (50, 50, 50)\n",
    "\n",
    "\n",
    "imgaug_seq = iaa.Sequential([\n",
    "                            iaa.Resize({\"height\": 500, \"width\": 500}),\n",
    "                            ])\n",
    "img_transform_funcs = [] #transforms.seq_pil_to_imgaug_to_tensor(imgaug_seq)\n",
    "\n",
    "# Patch transformations\n",
    "imgaug_seq = iaa.Sequential([\n",
    "                            iaa.Resize({\"height\": 120, \"width\": 120}),\n",
    "                            ])\n",
    "patch_transform_funcs = [partial(transforms.transf_to_tensor, is_3d=False), transforms.transf_normalize] \n",
    "                           #[transforms.transf_to_imgaug, transforms.translate_imagaug_seq(imgaug_seq), \n",
    "                           #transforms.transf_to_tensor]\n",
    "\n",
    "# Create ImageDataset instance\n",
    "dataset = ImagePatchDataset(patch_size, img_dir, label_dir, name_2_label_map=name_2_label_map, filename_filter=filename_filter,\n",
    "                            img_opener=img_opener, label_opener=partial(img_opener, True), \n",
    "                            transforms=img_transform_funcs, patch_transforms=patch_transform_funcs, stride=stride)\n",
    "\n",
    "#dataset.check_dataset()\n",
    "\n",
    "train_ds, valid_ds = dataset.split_train_val(0.2)\n",
    "\n",
    "# We can grab all images as tensor\n",
    "x_train,y_train = train_ds.as_tensor()\n",
    "x_valid,y_valid = valid_ds.as_tensor()\n",
    "\n",
    "# Or create a dataloader\n",
    "train_dl = torch_dataloader.DataLoader(train_ds, batch_size=4, shuffle=True)\n",
    "valid_dl = torch_dataloader.DataLoader(valid_ds, batch_size=4, shuffle=False)"
   ]
  },
  {
   "cell_type": "code",
   "execution_count": null,
   "id": "426181e6",
   "metadata": {},
   "outputs": [],
   "source": []
  }
 ],
 "metadata": {
  "kernelspec": {
   "display_name": "Python 3",
   "language": "python",
   "name": "python3"
  },
  "language_info": {
   "codemirror_mode": {
    "name": "ipython",
    "version": 3
   },
   "file_extension": ".py",
   "mimetype": "text/x-python",
   "name": "python",
   "nbconvert_exporter": "python",
   "pygments_lexer": "ipython3",
   "version": "3.7.4"
  }
 },
 "nbformat": 4,
 "nbformat_minor": 5
}
