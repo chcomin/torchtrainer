{
 "cells": [
  {
   "cell_type": "code",
   "execution_count": 1,
   "id": "disciplinary-upgrade",
   "metadata": {},
   "outputs": [],
   "source": [
    "%load_ext autoreload\n",
    "%autoreload 2\n",
    "\n",
    "import sys\n",
    "sys.path.insert(0,'../../')"
   ]
  },
  {
   "cell_type": "code",
   "execution_count": 2,
   "id": "independent-hughes",
   "metadata": {},
   "outputs": [],
   "source": [
    "import numpy as np\n",
    "import matplotlib.pyplot as plt\n",
    "\n",
    "from PIL import Image\n",
    "import scipy.ndimage as ndi"
   ]
  },
  {
   "cell_type": "code",
   "execution_count": 3,
   "id": "descending-superior",
   "metadata": {},
   "outputs": [],
   "source": [
    "img_gt = Image.open('test_iou_gt.png')\n",
    "img_det = Image.open('test_iou_det.png')"
   ]
  },
  {
   "cell_type": "code",
   "execution_count": 4,
   "id": "embedded-buffalo",
   "metadata": {},
   "outputs": [
    {
     "data": {
      "text/plain": [
       "<matplotlib.image.AxesImage at 0x172715a9388>"
      ]
     },
     "execution_count": 4,
     "metadata": {},
     "output_type": "execute_result"
    },
    {
     "data": {
      "image/png": "[encoded data removed]",
      "text/plain": [
       "<Figure size 432x288 with 1 Axes>"
      ]
     },
     "metadata": {
      "needs_background": "light"
     },
     "output_type": "display_data"
    }
   ],
   "source": [
    "plt.imshow(img_det, 'gray')"
   ]
  },
  {
   "cell_type": "code",
   "execution_count": 14,
   "id": "structured-airline",
   "metadata": {
    "code_folding": [
     20,
     32,
     54,
     72,
     100,
     128,
     158,
     166,
     180
    ]
   },
   "outputs": [
    {
     "name": "stdout",
     "output_type": "stream",
     "text": [
      "[[ 0  1  2 -1  5 -1  7 -1 10 -1 12 -1 -1 -1 15 -1 -1 -1 -1 -1 -1]\n",
      " [-1  1  2 -1 -1 -1 -1 -1 -1 -1 -1 -1 -1 -1 15 -1 -1 -1 -1 -1 -1]]\n",
      "[[ 0  1  2 -1 -1  4 -1  6 -1 -1  8 -1 10 -1 -1 14 -1 -1 -1 -1]\n",
      " [-1  1  2 -1 -1 -1 -1 -1 -1 -1 -1 -1 -1 -1 -1 14 -1 -1 -1 -1]]\n",
      "[0.4  0.15]\n",
      "[0.38095238 0.14285714]\n",
      "[0.16253865 0.09183914]\n"
     ]
    },
    {
     "data": {
      "text/plain": [
       "0.4"
      ]
     },
     "execution_count": 14,
     "metadata": {},
     "output_type": "execute_result"
    }
   ],
   "source": [
    "class CocoPerf:\n",
    "    \n",
    "    def __init__(self, iou_thrs=None, which='precision'):\n",
    "        \"\"\"Not the same as COCO, since detection scores are not considered.\"\"\"\n",
    "        \n",
    "        if iou_thrs is None:\n",
    "            iou_thrs = np.linspace(.5, 0.95, int(np.round((0.95 - .5) / .05)) + 1, endpoint=True)\n",
    "        elif not isinstance(iou_thrs, (list, tuple)):\n",
    "            iou_thrs = [iou_thrs]\n",
    "        if isinstance(which, str):\n",
    "            which = [which]\n",
    "            \n",
    "        self.iou_thrs = iou_thrs\n",
    "        self.which = which\n",
    "        \n",
    "    def __call__(self, img_det, img_gt):\n",
    "        \n",
    "        results = self.evaluate(img_det, img_gt)\n",
    "\n",
    "        return results[self.which[0]][0]\n",
    "\n",
    "    def compute_ious(self, instances_det, instances_gt):\n",
    "\n",
    "        ious = np.zeros((len(instances_det), len(instances_gt)))\n",
    "        for idx_det, instance_det in enumerate(instances_det):\n",
    "            for idx_gt, instance_gt in enumerate(instances_gt):\n",
    "                points_det = instance_det.points\n",
    "                points_gt = instance_gt.points\n",
    "                iou = len(points_gt & points_det) / len(points_gt | points_det)\n",
    "                ious[idx_det, idx_gt] = iou\n",
    "\n",
    "        return ious\n",
    "\n",
    "    def evaluate(self, img_det, img_gt):\n",
    "                \n",
    "        iou_thrs = self.iou_thrs\n",
    "        num_thrs = len(iou_thrs)\n",
    "        \n",
    "        instances_gt = get_instances_coords(img_gt)\n",
    "        instances_det = get_instances_coords(img_det)\n",
    "        num_gt = len(instances_gt)\n",
    "        num_det = len(instances_det)\n",
    "            \n",
    "        ious = self.compute_ious(instances_det, instances_gt)\n",
    "        best_matches_det, best_matches_gt = self.match_instances(instances_det, instances_gt, ious, iou_thrs)\n",
    "        matches_det, matches_gt = self.threshold_matches(best_matches_det, ious)\n",
    "        metrics = self.metrics(matches_det, matches_gt, ious)\n",
    "\n",
    "        \n",
    "        results = {'instances_det': instances_det, 'instances_gt': instances_gt,\n",
    "                   'ious': ious, 'matches_gt': matches_gt, 'matches_det': matches_det,\n",
    "                   **metrics}\n",
    "         \n",
    "        return results\n",
    "\n",
    "    def threshold_matches(self, best_matches_det, ious):\n",
    "        \n",
    "        iou_thrs = self.iou_thrs\n",
    "        num_thrs = len(iou_thrs)\n",
    "        num_det = ious.shape[0]\n",
    "        num_gt = ious.shape[1]\n",
    "        \n",
    "        matches_gt  = np.full((num_thrs, num_gt), -1)\n",
    "        matches_det  = np.full((num_thrs, num_det), -1)\n",
    "        for idx_thrs, thrs in enumerate(iou_thrs):\n",
    "            for idx_det in range(num_det):      \n",
    "                idx_gt = best_matches_det[idx_det]\n",
    "                if ious[idx_det, idx_gt] >= thrs:\n",
    "                    matches_det[idx_thrs, idx_det]  = idx_gt\n",
    "                    matches_gt[idx_thrs, idx_gt] = idx_det\n",
    "                    \n",
    "        return matches_det, matches_gt\n",
    "    \n",
    "    def metrics(self, matches_det, matches_gt, ious):\n",
    "        \n",
    "        iou_thrs = self.iou_thrs\n",
    "        num_thrs = len(iou_thrs)\n",
    "        \n",
    "        tp_mask = matches_gt>-1\n",
    "        fp_mask = matches_det==-1\n",
    "        fn_mask = matches_gt==-1\n",
    "        \n",
    "        tp = np.sum(tp_mask, axis=1)\n",
    "        fp = np.sum(fp_mask, axis=1)\n",
    "        fn = np.sum(fn_mask, axis=1)\n",
    "\n",
    "        precision = tp/(tp + fp)\n",
    "        recall = tp/(tp + fn)\n",
    "\n",
    "        sum_ious_tp = np.zeros(num_thrs)\n",
    "        for idx_thrs in range(num_thrs):\n",
    "            indices_gt = matches_det[idx_thrs]\n",
    "            ious_tp = []\n",
    "            for idx_det, idx_gt in enumerate(indices_gt):\n",
    "                if idx_gt>-1:\n",
    "                    ious_tp.append(ious[idx_det, idx_gt])\n",
    "            sum_ious_tp[idx_thrs] = sum(ious_tp)\n",
    "        panoptic = sum_ious_tp/(tp + 0.5*fp + 0.5*fn)\n",
    "            \n",
    "        return {'precision': precision, 'recall': recall, 'panoptic': panoptic}\n",
    "        \n",
    "    def match_instances(self, instances_det, instances_gt, ious, iou_thrs):\n",
    "        \n",
    "        num_det = len(instances_det)\n",
    "        num_gt = len(instances_gt)\n",
    "        num_thrs = len(iou_thrs)\n",
    "\n",
    "        # Bipartite graph with weighted edges\n",
    "        edges = []\n",
    "        for idx_det in range(num_det): \n",
    "            for idx_gt in range(num_gt): \n",
    "                edges.append((idx_det, num_det+idx_gt, ious[idx_det, idx_gt]))\n",
    "\n",
    "        current_det_nodes = set(range(num_det))\n",
    "        current_gt_nodes = set(range(num_det, num_det+num_gt))\n",
    "        sorted_edges = sorted(edges, key=lambda edge: edge[2], reverse=True)\n",
    "        best_matches_gt  = np.full(num_gt, -1)\n",
    "        best_matches_det  = np.full(num_det, -1)\n",
    "        # Iterate over edges in decreasing iou order, removing the nodes from the graph\n",
    "        for idx_det, idx_gt, iou in sorted_edges:\n",
    "            if iou>0:\n",
    "                if idx_gt in current_gt_nodes and idx_det in current_det_nodes:\n",
    "                    best_matches_det[idx_det]  = idx_gt - num_det\n",
    "                    best_matches_gt[idx_gt - num_det] = idx_det    \n",
    "                    current_gt_nodes.remove(idx_gt)\n",
    "                    current_det_nodes.remove(idx_det)\n",
    "                    \n",
    "        return best_matches_det, best_matches_gt\n",
    "    \n",
    "    def draw_results(self, results, img_shape, thresh_idx,\n",
    "                     tp_color=(0, 255, 0), fp_color=(0, 0, 255), fn_color=(255, 0, 0)):\n",
    "        \n",
    "        instances_det = results['instances_det']\n",
    "        instances_gt = results['instances_gt']\n",
    "        matches_det = results['matches_det'][thresh_idx]\n",
    "        matches_gt = results['matches_gt'][thresh_idx]\n",
    "        \n",
    "        img_tp = np.zeros((*img_shape, 3), dtype=np.int)\n",
    "        img_fp = np.zeros_like(img_tp)\n",
    "        img_fn = np.zeros_like(img_tp)\n",
    "        img_gt = np.zeros_like(img_tp)\n",
    "        for idx_det, idx_gt in enumerate(matches_det):\n",
    "            if idx_gt==-1:\n",
    "                self.draw_instance(img_fp, instances_det[idx_det], fp_color)\n",
    "            else:\n",
    "                self.draw_instance(img_tp, instances_det[idx_det], tp_color)\n",
    "        for idx_gt, idx_det in enumerate(matches_gt):\n",
    "            if idx_det==-1:\n",
    "                self.draw_instance(img_fn, instances_gt[idx_gt], fn_color)\n",
    "                \n",
    "        for instance in instances_gt:\n",
    "            self.draw_instance(img_gt, instance, (255, 255, 255))\n",
    "            \n",
    "        gt_alpha = 0.2\n",
    "        img_final = (img_tp + img_fp + img_fn + (1-gt_alpha)*img_gt)/(2+gt_alpha)\n",
    "        img_final = np.round(img_final).astype(np.uint8)\n",
    "            \n",
    "        return img_final\n",
    "      \n",
    "    def draw_instance(self, img, instance, color):\n",
    "        \n",
    "        num_cols = img.shape[1]\n",
    "        for index in instance.points:\n",
    "            row = index//num_cols\n",
    "            col = index - row*num_cols\n",
    "            img[row, col] = color\n",
    "    \n",
    "class Instance:\n",
    "    \n",
    "    def __init__(self, id, points):\n",
    "        \n",
    "        if not isinstance(points, set):\n",
    "            points = set(map(tuple, points))\n",
    "            \n",
    "        self.id = id\n",
    "        self.points = points\n",
    "        \n",
    "    def center_of_mass(self):\n",
    "        \n",
    "        return np.mean(self.points, axis=0)\n",
    "    \n",
    "def get_instances_coords(img):\n",
    "\n",
    "    se = np.ones((3, 3))\n",
    "    img_label, num_inst = ndi.label(img, se)\n",
    "\n",
    "    indices = np.arange(1, num_inst + 1)\n",
    "    inst_points = ndi.labeled_comprehension(img_label, img_label, indices, \n",
    "                                             lambda v, p: (v[0], p), list, None, \n",
    "                                             pass_positions=True)\n",
    "    inst_points = [Instance(v[0]-1, set(v[1])) for v in inst_points]\n",
    "    return inst_points\n",
    "\n",
    "cp = CocoPerf(iou_thrs=[0.2, 0.4])            \n",
    "results = cp.evaluate(img_det, img_gt)\n",
    "print(results['matches_gt'])\n",
    "print(results['matches_det'])\n",
    "print(results['precision'])\n",
    "print(results['recall'])\n",
    "print(results['panoptic'])\n",
    "cp(img_det, img_gt)"
   ]
  },
  {
   "cell_type": "code",
   "execution_count": 6,
   "id": "abstract-dynamics",
   "metadata": {},
   "outputs": [],
   "source": [
    "img_final = cp.draw_results(results, np.array(img_gt).shape, 0)"
   ]
  },
  {
   "cell_type": "code",
   "execution_count": 7,
   "id": "stopped-member",
   "metadata": {},
   "outputs": [
    {
     "data": {
      "text/plain": [
       "<matplotlib.image.AxesImage at 0x17271d3f308>"
      ]
     },
     "execution_count": 7,
     "metadata": {},
     "output_type": "execute_result"
    },
    {
     "data": {
      "image/png": "[encoded data removed]",
      "text/plain": [
       "<Figure size 864x864 with 1 Axes>"
      ]
     },
     "metadata": {
      "needs_background": "light"
     },
     "output_type": "display_data"
    }
   ],
   "source": [
    "plt.figure(figsize=[12,12])\n",
    "plt.imshow(img_final)"
   ]
  },
  {
   "cell_type": "code",
   "execution_count": 72,
   "id": "generous-backing",
   "metadata": {},
   "outputs": [
    {
     "data": {
      "text/plain": [
       "0.38095238095238093"
      ]
     },
     "execution_count": 72,
     "metadata": {},
     "output_type": "execute_result"
    }
   ],
   "source": [
    "8/21"
   ]
  },
  {
   "cell_type": "code",
   "execution_count": 125,
   "id": "exciting-fountain",
   "metadata": {},
   "outputs": [
    {
     "name": "stdout",
     "output_type": "stream",
     "text": [
      "[[-1  4  3  0  2]\n",
      " [-1  4  3  0  2]\n",
      " [-1  4  3  0  2]\n",
      " [-1 -1  3  0  2]\n",
      " [-1 -1  3  0  2]\n",
      " [-1 -1  3  0  2]\n",
      " [-1 -1  3  0  2]\n",
      " [-1 -1 -1  0  2]\n",
      " [-1 -1 -1  0  2]\n",
      " [-1 -1 -1  0 -1]]\n",
      "[[ 3 -1  4  2  1]\n",
      " [ 3 -1  4  2  1]\n",
      " [ 3 -1  4  2  1]\n",
      " [ 3 -1  4  2 -1]\n",
      " [ 3 -1  4  2 -1]\n",
      " [ 3 -1  4  2 -1]\n",
      " [ 3 -1  4  2 -1]\n",
      " [ 3 -1  4 -1 -1]\n",
      " [ 3 -1  4 -1 -1]\n",
      " [ 3 -1 -1 -1 -1]]\n"
     ]
    }
   ],
   "source": [
    "iou_thrs = np.linspace(.5, 0.95, int(np.round((0.95 - .5) / .05)) + 1, endpoint=True)\n",
    "num_det = ious.shape[0]\n",
    "num_gt = ious.shape[1]\n",
    "num_thrs = len(iou_thrs)\n",
    "\n",
    "edges = []\n",
    "for idx_det in range(ious.shape[0]): \n",
    "    for idx_gt in range(ious.shape[1]): \n",
    "        edges.append((idx_det, num_det+idx_gt, ious[idx_det, idx_gt]))\n",
    "\n",
    "#edges = graph.edges(data=True)\n",
    "current_det_nodes = set(range(num_det))\n",
    "current_gt_nodes = set(range(num_det, num_det+num_gt))\n",
    "sorted_edges = sorted(edges, key=lambda edge: edge[2], reverse=True)\n",
    "#current_nodes = set(graph.nodes)\n",
    "best_matches_gt  = np.full(num_gt, -1)\n",
    "best_matches_det  = np.full(num_det, -1)\n",
    "for idx_det, idx_gt, iou in sorted_edges:\n",
    "    if iou>0:\n",
    "        if idx_gt in current_gt_nodes and idx_det in current_det_nodes:\n",
    "            best_matches_det[idx_det]  = idx_gt - num_det\n",
    "            best_matches_gt[idx_gt - num_det] = idx_det    \n",
    "            current_gt_nodes.remove(idx_gt)\n",
    "            current_det_nodes.remove(idx_det)\n",
    "    \n",
    "matches_gt  = np.full((num_thrs, num_gt), -1)\n",
    "matches_det  = np.full((num_thrs, num_det), -1)\n",
    "for idx_thrs, thrs in enumerate(iou_thrs):\n",
    "    for idx_det in range(ious.shape[0]):      \n",
    "        idx_gt = best_matches_det[idx_det]\n",
    "        if ious[idx_det, idx_gt] >= thrs:\n",
    "            matches_det[idx_thrs, idx_det]  = idx_gt\n",
    "            matches_gt[idx_thrs, idx_gt] = idx_det\n",
    "            \n",
    "print(matches_gt)\n",
    "print(matches_det)"
   ]
  },
  {
   "cell_type": "code",
   "execution_count": 101,
   "id": "offshore-heating",
   "metadata": {},
   "outputs": [
    {
     "data": {
      "text/plain": [
       "False"
      ]
     },
     "execution_count": 101,
     "metadata": {},
     "output_type": "execute_result"
    }
   ],
   "source": [
    "idx_gt in current_gt_nodes"
   ]
  },
  {
   "cell_type": "code",
   "execution_count": 64,
   "id": "chemical-accuracy",
   "metadata": {},
   "outputs": [
    {
     "data": {
      "text/plain": [
       "{1, 2, 3, 4, 5}"
      ]
     },
     "execution_count": 64,
     "metadata": {},
     "output_type": "execute_result"
    }
   ],
   "source": [
    "set([1, 2, 3]) | set([3, 4, 5])"
   ]
  },
  {
   "cell_type": "code",
   "execution_count": null,
   "id": "permanent-delight",
   "metadata": {},
   "outputs": [],
   "source": []
  }
 ],
 "metadata": {
  "kernelspec": {
   "display_name": "Python 3",
   "language": "python",
   "name": "python3"
  },
  "language_info": {
   "codemirror_mode": {
    "name": "ipython",
    "version": 3
   },
   "file_extension": ".py",
   "mimetype": "text/x-python",
   "name": "python",
   "nbconvert_exporter": "python",
   "pygments_lexer": "ipython3",
   "version": "3.7.4"
  }
 },
 "nbformat": 4,
 "nbformat_minor": 5
}
