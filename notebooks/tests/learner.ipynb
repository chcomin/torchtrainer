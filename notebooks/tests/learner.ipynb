{
 "cells": [
  {
   "cell_type": "code",
   "execution_count": 1,
   "id": "variable-genealogy",
   "metadata": {},
   "outputs": [],
   "source": [
    "%load_ext autoreload\n",
    "%autoreload 2\n",
    "\n",
    "import sys\n",
    "sys.path.insert(0,'../../')"
   ]
  },
  {
   "cell_type": "code",
   "execution_count": 135,
   "id": "included-wallace",
   "metadata": {},
   "outputs": [
    {
     "name": "stdout",
     "output_type": "stream",
     "text": [
      "_CudaDeviceProperties(name='GeForce RTX 2080 Ti', major=7, minor=5, total_memory=11264MB, multi_processor_count=68)\n",
      "830084096\n"
     ]
    }
   ],
   "source": [
    "# Initial imports and device setting\n",
    "import torch\n",
    "from pathlib import Path\n",
    "import re\n",
    "import numpy as np\n",
    "import scipy.ndimage as ndi\n",
    "from PIL import Image\n",
    "from torch.utils.data import dataloader as torch_dataloader\n",
    "from functools import partial\n",
    "import imgaug.augmenters as iaa\n",
    "import matplotlib.pyplot as plt\n",
    "from torchtrainer.imagedataset import ImageSegmentationDataset\n",
    "from torchtrainer import img_util\n",
    "from torchtrainer import transforms\n",
    "from torchtrainer.models.edunet import EDUNet\n",
    "from torchtrainer.models.resunet import ResUNet\n",
    "from torchtrainer.learner import Learner\n",
    "from torchtrainer import perf_funcs\n",
    "from torchtrainer.module_util import Hooks, calculate_stats\n",
    "from torch.functional import F\n",
    "\n",
    "use_cuda = True\n",
    "\n",
    "if use_cuda and torch.cuda.is_available():\n",
    "    device = torch.device('cuda')\n",
    "    dev_info = torch.cuda.get_device_properties(device)\n",
    "    print(dev_info)\n",
    "    print(torch.cuda.memory_allocated(device))\n",
    "else:\n",
    "    device = torch.device('cpu')"
   ]
  },
  {
   "cell_type": "code",
   "execution_count": 3,
   "id": "interracial-overhead",
   "metadata": {},
   "outputs": [],
   "source": [
    "# Data management functions for DRIVE\n",
    "'''\n",
    "Used in the ImageDataset class for storing the DRIVE images\n",
    "'''\n",
    "\n",
    "def name_2_label_map(img_filename):\n",
    "    \n",
    "    m = re.match('(\\d\\d)_[training|test]', img_filename)\n",
    "    index = m.group(1)\n",
    "    label_filename = index + '_manual1.gif'\n",
    "    \n",
    "    return label_filename\n",
    "\n",
    "def filename_filter(img_filename, test=False):\n",
    "    \n",
    "    if test:\n",
    "        return 'test' in img_filename\n",
    "    else:\n",
    "        return 'test' not in img_filename\n",
    "    \n",
    "def weight_func(pil_img, pil_label, img_path):\n",
    "     \n",
    "    label = np.array(pil_label, dtype=float)\n",
    "    weight = (label + 1)/2\n",
    "    pil_weight = Image.fromarray(weight)\n",
    "    \n",
    "    return pil_weight"
   ]
  },
  {
   "cell_type": "code",
   "execution_count": 4,
   "id": "coastal-sheet",
   "metadata": {},
   "outputs": [],
   "source": [
    "#Params\n",
    "root_dir = Path('../../../research/drive/data/DRIVE')\n",
    "img_dir = root_dir/'images'\n",
    "label_dir = root_dir/'labels'\n",
    "mask_dir = root_dir/'mask'\n",
    "\n",
    "params = {\n",
    "            'size':(561, 561), #(572, 572)\n",
    "            'batch_size':2,\n",
    "            'val_split':0.2,\n",
    "            'epochs':15,\n",
    "            'lr':0.001,\n",
    "            'channel':None,           # If None, use all three channels\n",
    "            'lr_sched_step':100,      # Every lr_sched_step epochs, learning rate is decreased by lr_sched_gamma\n",
    "            'lr_sched_gamma':0.1,\n",
    "         }"
   ]
  },
  {
   "cell_type": "code",
   "execution_count": 5,
   "id": "second-cocktail",
   "metadata": {},
   "outputs": [
    {
     "name": "stdout",
     "output_type": "stream",
     "text": [
      "All images read\n"
     ]
    }
   ],
   "source": [
    "# Create dataloaders\n",
    "from functools import partial\n",
    "\n",
    "# Create functions for using in the dataset creation\n",
    "img_opener_partial = partial(img_util.pil_img_opener, channel=params['channel'])\n",
    "label_opener_partial = partial(img_util.pil_img_opener, is_label=True)\n",
    "\n",
    "# Image transformations\n",
    "imgaug_seq = iaa.Sequential([\n",
    "                            iaa.Resize({\"height\": params['size'][0], \"width\": params['size'][1]}),\n",
    "                            ])\n",
    "transform_funcs = transforms.seq_pil_to_imgaug_to_tensor(imgaug_seq)\n",
    "transform_funcs += [transforms.TransfNormalize()]\n",
    "\n",
    "# Create ImageDataset instance\n",
    "dataset = ImageSegmentationDataset(img_dir, label_dir, name_to_label_map=name_2_label_map, filename_filter=filename_filter, \n",
    "                       img_opener=img_opener_partial, label_opener=label_opener_partial, transforms=transform_funcs)\n",
    "\n",
    "dataset.check_dataset()\n",
    "\n",
    "train_ds, valid_ds = dataset.split_train_val(params['val_split'])\n",
    "train_dl = torch_dataloader.DataLoader(train_ds, batch_size=params['batch_size'], shuffle=True)\n",
    "valid_dl = torch_dataloader.DataLoader(valid_ds, batch_size=params['batch_size'], shuffle=False)"
   ]
  },
  {
   "cell_type": "code",
   "execution_count": 7,
   "id": "wired-default",
   "metadata": {
    "scrolled": true
   },
   "outputs": [
    {
     "name": "stdout",
     "output_type": "stream",
     "text": [
      "Wall time: 730 ms\n"
     ]
    }
   ],
   "source": [
    "%%time\n",
    "loss_func = F.nll_loss\n",
    "#loss_func = perf_funcs.apply_on_cropped_data(F.nll_loss)\n",
    "\n",
    "if params['channel'] is None: \n",
    "    num_channels = 3\n",
    "else:\n",
    "    num_channels = 1\n",
    "\n",
    "model = ResUNet(num_channels=num_channels, num_classes=2) \n",
    "optimizer = torch.optim.Adam(model.parameters(), lr=params['lr'])\n",
    "scheduler = torch.optim.lr_scheduler.StepLR(optimizer, step_size=params['lr_sched_step'], gamma=params['lr_sched_gamma'])\n",
    "\n",
    "learner = Learner(model, loss_func, optimizer, train_dl, valid_dl, scheduler, \n",
    "                       acc_funcs=perf_funcs.build_acc_dict(perf_funcs.get_prfa), main_acc_func='f1')\n",
    "\n",
    "#hooks = Hooks(model, [model.encoder, model.encoder.resblock1], calculate_stats)\n",
    "\n",
    "#learner.fit(params['epochs'])"
   ]
  },
  {
   "cell_type": "code",
   "execution_count": 8,
   "id": "quantitative-angel",
   "metadata": {},
   "outputs": [
    {
     "data": {
      "text/plain": [
       "14"
      ]
     },
     "execution_count": 8,
     "metadata": {},
     "output_type": "execute_result"
    }
   ],
   "source": [
    "#Load best state\n",
    "#learner.save_state(True)\n",
    "learner.load_state()\n",
    "model.to(device)\n",
    "learner.epoch"
   ]
  },
  {
   "cell_type": "code",
   "execution_count": 9,
   "id": "historic-tumor",
   "metadata": {},
   "outputs": [
    {
     "data": {
      "text/plain": [
       "(0.0, 0.25)"
      ]
     },
     "execution_count": 9,
     "metadata": {},
     "output_type": "execute_result"
    },
    {
     "data": {
      "image/png": "[encoded data removed]",
      "text/plain": [
       "<Figure size 432x288 with 1 Axes>"
      ]
     },
     "metadata": {
      "needs_background": "light"
     },
     "output_type": "display_data"
    }
   ],
   "source": [
    "# Plot loss\n",
    "plt.figure()\n",
    "plt.plot(learner.train_loss_history)\n",
    "plt.plot(learner.valid_loss_history)\n",
    "plt.ylim([0, 0.25])\n",
    "#plt.figure()\n",
    "#plt.plot(learner.lr_history)"
   ]
  },
  {
   "cell_type": "code",
   "execution_count": 10,
   "id": "valid-logistics",
   "metadata": {},
   "outputs": [
    {
     "name": "stdout",
     "output_type": "stream",
     "text": [
      "All images read\n"
     ]
    },
    {
     "data": {
      "image/png": "[encoded data removed]",
      "text/plain": [
       "<PIL.Image.Image image mode=P size=561x561 at 0x2C47BD76E48>"
      ]
     },
     "metadata": {},
     "output_type": "display_data"
    },
    {
     "data": {
      "image/png": "[encoded data removed]",
      "text/plain": [
       "<PIL.Image.Image image mode=P size=561x561 at 0x2C47BD76E48>"
      ]
     },
     "metadata": {},
     "output_type": "display_data"
    },
    {
     "name": "stdout",
     "output_type": "stream",
     "text": [
      "{'iou': tensor(0.6013), 'f1': tensor(0.7498), 'prec': tensor(0.8382), 'rec': tensor(0.6898)}\n"
     ]
    }
   ],
   "source": [
    "# Test model\n",
    "test_filename_filter = partial(filename_filter, test=True)\n",
    "    \n",
    "test_ds = ImageSegmentationDataset(img_dir, label_dir, name_to_label_map=name_2_label_map, filename_filter=test_filename_filter, \n",
    "                                img_opener=img_opener_partial, label_opener=label_opener_partial, \n",
    "                                transforms=transform_funcs)\n",
    "\n",
    "dataset.check_dataset()\n",
    "test_dl = torch_dataloader.DataLoader(test_ds, batch_size=1, shuffle=False)\n",
    "\n",
    "accs = learner.test(test_dl)\n",
    "\n",
    "# Show predictions\n",
    "xb, yb = test_ds[0]\n",
    "bin_pred, _ = learner.pred(xb.unsqueeze(0), yb.unsqueeze(0), return_classes=True)\n",
    "\n",
    "\n",
    "img_util.show(transforms.TransfToPil()(yb.squeeze().to(torch.uint8)), True)\n",
    "img_util.show(transforms.TransfToPil()(bin_pred[0]), True)\n",
    "\n",
    "print(accs)"
   ]
  },
  {
   "cell_type": "code",
   "execution_count": 140,
   "id": "framed-positive",
   "metadata": {},
   "outputs": [
    {
     "name": "stdout",
     "output_type": "stream",
     "text": [
      "Evaluating images...0%"
     ]
    },
    {
     "data": {
      "image/png": "[encoded data removed]",
      "text/plain": [
       "<Figure size 1080x1080 with 1 Axes>"
      ]
     },
     "metadata": {
      "needs_background": "light"
     },
     "output_type": "display_data"
    }
   ],
   "source": [
    "iou = partial(perf_funcs.get_prfa, meas='iou')\n",
    "pv = img_util.PerfVisualizer(test_ds, model, iou, device=device)"
   ]
  },
  {
   "cell_type": "code",
   "execution_count": 141,
   "id": "optional-aurora",
   "metadata": {},
   "outputs": [
    {
     "data": {
      "text/plain": [
       "20"
      ]
     },
     "execution_count": 141,
     "metadata": {},
     "output_type": "execute_result"
    }
   ],
   "source": [
    "len(test_ds)"
   ]
  },
  {
   "cell_type": "code",
   "execution_count": 144,
   "id": "third-delhi",
   "metadata": {},
   "outputs": [
    {
     "data": {
      "text/plain": [
       "[('03_test', {'idx': 2, 'perf': tensor(0.4678)}),\n",
       " ('09_test', {'idx': 8, 'perf': tensor(0.5207)}),\n",
       " ('17_test', {'idx': 16, 'perf': tensor(0.5246)}),\n",
       " ('08_test', {'idx': 7, 'perf': tensor(0.5335)}),\n",
       " ('06_test', {'idx': 5, 'perf': tensor(0.5724)}),\n",
       " ('05_test', {'idx': 4, 'perf': tensor(0.5923)}),\n",
       " ('15_test', {'idx': 14, 'perf': tensor(0.6096)}),\n",
       " ('13_test', {'idx': 12, 'perf': tensor(0.6110)}),\n",
       " ('11_test', {'idx': 10, 'perf': tensor(0.6153)}),\n",
       " ('07_test', {'idx': 6, 'perf': tensor(0.6174)}),\n",
       " ('14_test', {'idx': 13, 'perf': tensor(0.6192)}),\n",
       " ('12_test', {'idx': 11, 'perf': tensor(0.6266)}),\n",
       " ('10_test', {'idx': 9, 'perf': tensor(0.6275)}),\n",
       " ('18_test', {'idx': 17, 'perf': tensor(0.6309)}),\n",
       " ('04_test', {'idx': 3, 'perf': tensor(0.6328)}),\n",
       " ('20_test', {'idx': 19, 'perf': tensor(0.6342)}),\n",
       " ('16_test', {'idx': 15, 'perf': tensor(0.6342)}),\n",
       " ('01_test', {'idx': 0, 'perf': tensor(0.6398)}),\n",
       " ('02_test', {'idx': 1, 'perf': tensor(0.6550)}),\n",
       " ('19_test', {'idx': 18, 'perf': tensor(0.6614)})]"
      ]
     },
     "execution_count": 144,
     "metadata": {},
     "output_type": "execute_result"
    }
   ],
   "source": [
    "pv.perf_list"
   ]
  },
  {
   "cell_type": "code",
   "execution_count": null,
   "id": "stuffed-qualification",
   "metadata": {},
   "outputs": [],
   "source": []
  }
 ],
 "metadata": {
  "kernelspec": {
   "display_name": "Python 3",
   "language": "python",
   "name": "python3"
  },
  "language_info": {
   "codemirror_mode": {
    "name": "ipython",
    "version": 3
   },
   "file_extension": ".py",
   "mimetype": "text/x-python",
   "name": "python",
   "nbconvert_exporter": "python",
   "pygments_lexer": "ipython3",
   "version": "3.7.4"
  }
 },
 "nbformat": 4,
 "nbformat_minor": 5
}
