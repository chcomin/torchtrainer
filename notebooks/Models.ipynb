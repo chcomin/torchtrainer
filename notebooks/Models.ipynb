{
 "cells": [
  {
   "cell_type": "markdown",
   "metadata": {},
   "source": [
    "## Examples of model creation and usage"
   ]
  },
  {
   "cell_type": "markdown",
   "metadata": {},
   "source": [
    "### U-Net\n",
    "\n",
    "The U-Net implemented has the following architecture:\n",
    "\n",
    "<img src=\"resunet.png\" width=\"600\"/>\n",
    "\n",
    "The building blocks of the network are the following:\n",
    "\n",
    "<img src=\"resunet_blocks.png\" width=\"600\"/>\n",
    "\n",
    "That is, the network is divided into an encoder and a decoder. The encoder is composed of stages, each stage having a number of residual blocks. At the beginning of each stage, the activations are downsampled and the number of channels is changed, with the exception of the first stage where there is no change to the number of channels. \n",
    "\n",
    "The decoder mirrors the encoder. Each stage of the decoder upsamples the signal, concatenates it with the output of the respective stage of the encoder and passes the output to some residual blocks. Notice that stage i of the decoder uses the output of stage i-1 of the encoder. This is by design, so that the last stage of the decoder operates on the full resolution of the input image. \n",
    "\n",
    "Therefore, a U-Net with n stages is defined by the following parameters:\n",
    "\n",
    "* in_channels = ci\n",
    "* num_classes = m\n",
    "* blocks_per_encoder_stage = [e1,e2,...,en]\n",
    "* blocks_per_decoder_stage = [d1,d2,...,dn]\n",
    "* channels_per_stage = [c1,c2,...,cn]"
   ]
  },
  {
   "cell_type": "code",
   "execution_count": 1,
   "metadata": {},
   "outputs": [
    {
     "data": {
      "text/plain": [
       "UNetCustom(\n",
       "  (stage_input): Sequential(\n",
       "    (0): Conv2d(1, 16, kernel_size=(7, 7), stride=(1, 1), padding=(3, 3), bias=False)\n",
       "    (1): BatchNorm2d(16, eps=1e-05, momentum=0.1, affine=True, track_running_stats=True)\n",
       "    (2): ReLU(inplace=True)\n",
       "  )\n",
       "  (encoder): ModuleDict(\n",
       "    (stage_0): Sequential(\n",
       "      (0): BasicBlock(\n",
       "        (conv1): Conv2d(16, 16, kernel_size=(3, 3), stride=(2, 2), padding=(1, 1), bias=False)\n",
       "        (bn1): BatchNorm2d(16, eps=1e-05, momentum=0.1, affine=True, track_running_stats=True)\n",
       "        (relu1): ReLU(inplace=True)\n",
       "        (conv2): Conv2d(16, 16, kernel_size=(3, 3), stride=(1, 1), padding=(1, 1), bias=False)\n",
       "        (bn2): BatchNorm2d(16, eps=1e-05, momentum=0.1, affine=True, track_running_stats=True)\n",
       "        (relu2): ReLU(inplace=True)\n",
       "        (residual_adj): Sequential(\n",
       "          (0): Conv2d(16, 16, kernel_size=(1, 1), stride=(2, 2), bias=False)\n",
       "          (1): BatchNorm2d(16, eps=1e-05, momentum=0.1, affine=True, track_running_stats=True)\n",
       "        )\n",
       "      )\n",
       "    )\n",
       "    (stage_1): Sequential(\n",
       "      (0): BasicBlock(\n",
       "        (conv1): Conv2d(16, 32, kernel_size=(3, 3), stride=(2, 2), padding=(1, 1), bias=False)\n",
       "        (bn1): BatchNorm2d(32, eps=1e-05, momentum=0.1, affine=True, track_running_stats=True)\n",
       "        (relu1): ReLU(inplace=True)\n",
       "        (conv2): Conv2d(32, 32, kernel_size=(3, 3), stride=(1, 1), padding=(1, 1), bias=False)\n",
       "        (bn2): BatchNorm2d(32, eps=1e-05, momentum=0.1, affine=True, track_running_stats=True)\n",
       "        (relu2): ReLU(inplace=True)\n",
       "        (residual_adj): Sequential(\n",
       "          (0): Conv2d(16, 32, kernel_size=(1, 1), stride=(2, 2), bias=False)\n",
       "          (1): BatchNorm2d(32, eps=1e-05, momentum=0.1, affine=True, track_running_stats=True)\n",
       "        )\n",
       "      )\n",
       "      (1): BasicBlock(\n",
       "        (conv1): Conv2d(32, 32, kernel_size=(3, 3), stride=(1, 1), padding=(1, 1), bias=False)\n",
       "        (bn1): BatchNorm2d(32, eps=1e-05, momentum=0.1, affine=True, track_running_stats=True)\n",
       "        (relu1): ReLU(inplace=True)\n",
       "        (conv2): Conv2d(32, 32, kernel_size=(3, 3), stride=(1, 1), padding=(1, 1), bias=False)\n",
       "        (bn2): BatchNorm2d(32, eps=1e-05, momentum=0.1, affine=True, track_running_stats=True)\n",
       "        (relu2): ReLU(inplace=True)\n",
       "      )\n",
       "      (2): BasicBlock(\n",
       "        (conv1): Conv2d(32, 32, kernel_size=(3, 3), stride=(1, 1), padding=(1, 1), bias=False)\n",
       "        (bn1): BatchNorm2d(32, eps=1e-05, momentum=0.1, affine=True, track_running_stats=True)\n",
       "        (relu1): ReLU(inplace=True)\n",
       "        (conv2): Conv2d(32, 32, kernel_size=(3, 3), stride=(1, 1), padding=(1, 1), bias=False)\n",
       "        (bn2): BatchNorm2d(32, eps=1e-05, momentum=0.1, affine=True, track_running_stats=True)\n",
       "        (relu2): ReLU(inplace=True)\n",
       "      )\n",
       "    )\n",
       "    (stage_2): Sequential(\n",
       "      (0): BasicBlock(\n",
       "        (conv1): Conv2d(32, 64, kernel_size=(3, 3), stride=(2, 2), padding=(1, 1), bias=False)\n",
       "        (bn1): BatchNorm2d(64, eps=1e-05, momentum=0.1, affine=True, track_running_stats=True)\n",
       "        (relu1): ReLU(inplace=True)\n",
       "        (conv2): Conv2d(64, 64, kernel_size=(3, 3), stride=(1, 1), padding=(1, 1), bias=False)\n",
       "        (bn2): BatchNorm2d(64, eps=1e-05, momentum=0.1, affine=True, track_running_stats=True)\n",
       "        (relu2): ReLU(inplace=True)\n",
       "        (residual_adj): Sequential(\n",
       "          (0): Conv2d(32, 64, kernel_size=(1, 1), stride=(2, 2), bias=False)\n",
       "          (1): BatchNorm2d(64, eps=1e-05, momentum=0.1, affine=True, track_running_stats=True)\n",
       "        )\n",
       "      )\n",
       "    )\n",
       "  )\n",
       "  (decoder): ModuleDict(\n",
       "    (stage_2): ModuleList(\n",
       "      (0): Upsample(\n",
       "        (channel_adj): Sequential(\n",
       "          (0): Conv2d(64, 32, kernel_size=(1, 1), stride=(1, 1), bias=False)\n",
       "          (1): BatchNorm2d(32, eps=1e-05, momentum=0.1, affine=True, track_running_stats=True)\n",
       "          (2): ReLU(inplace=True)\n",
       "        )\n",
       "        (interpolate): Interpolate()\n",
       "      )\n",
       "      (1): Concat(concat_dim=1)\n",
       "      (2): Sequential(\n",
       "        (0): BasicBlock(\n",
       "          (conv1): Conv2d(64, 32, kernel_size=(3, 3), stride=(1, 1), padding=(1, 1), bias=False)\n",
       "          (bn1): BatchNorm2d(32, eps=1e-05, momentum=0.1, affine=True, track_running_stats=True)\n",
       "          (relu1): ReLU(inplace=True)\n",
       "          (conv2): Conv2d(32, 32, kernel_size=(3, 3), stride=(1, 1), padding=(1, 1), bias=False)\n",
       "          (bn2): BatchNorm2d(32, eps=1e-05, momentum=0.1, affine=True, track_running_stats=True)\n",
       "          (relu2): ReLU(inplace=True)\n",
       "          (residual_adj): Sequential(\n",
       "            (0): Conv2d(64, 32, kernel_size=(1, 1), stride=(1, 1), bias=False)\n",
       "            (1): BatchNorm2d(32, eps=1e-05, momentum=0.1, affine=True, track_running_stats=True)\n",
       "          )\n",
       "        )\n",
       "      )\n",
       "    )\n",
       "    (stage_1): ModuleList(\n",
       "      (0): Upsample(\n",
       "        (channel_adj): Sequential(\n",
       "          (0): Conv2d(32, 16, kernel_size=(1, 1), stride=(1, 1), bias=False)\n",
       "          (1): BatchNorm2d(16, eps=1e-05, momentum=0.1, affine=True, track_running_stats=True)\n",
       "          (2): ReLU(inplace=True)\n",
       "        )\n",
       "        (interpolate): Interpolate()\n",
       "      )\n",
       "      (1): Concat(concat_dim=1)\n",
       "      (2): Sequential(\n",
       "        (0): BasicBlock(\n",
       "          (conv1): Conv2d(32, 16, kernel_size=(3, 3), stride=(1, 1), padding=(1, 1), bias=False)\n",
       "          (bn1): BatchNorm2d(16, eps=1e-05, momentum=0.1, affine=True, track_running_stats=True)\n",
       "          (relu1): ReLU(inplace=True)\n",
       "          (conv2): Conv2d(16, 16, kernel_size=(3, 3), stride=(1, 1), padding=(1, 1), bias=False)\n",
       "          (bn2): BatchNorm2d(16, eps=1e-05, momentum=0.1, affine=True, track_running_stats=True)\n",
       "          (relu2): ReLU(inplace=True)\n",
       "          (residual_adj): Sequential(\n",
       "            (0): Conv2d(32, 16, kernel_size=(1, 1), stride=(1, 1), bias=False)\n",
       "            (1): BatchNorm2d(16, eps=1e-05, momentum=0.1, affine=True, track_running_stats=True)\n",
       "          )\n",
       "        )\n",
       "      )\n",
       "    )\n",
       "    (stage_0): ModuleList(\n",
       "      (0): Upsample(\n",
       "        (interpolate): Interpolate()\n",
       "      )\n",
       "      (1): Concat(concat_dim=1)\n",
       "      (2): Sequential(\n",
       "        (0): BasicBlock(\n",
       "          (conv1): Conv2d(32, 16, kernel_size=(3, 3), stride=(1, 1), padding=(1, 1), bias=False)\n",
       "          (bn1): BatchNorm2d(16, eps=1e-05, momentum=0.1, affine=True, track_running_stats=True)\n",
       "          (relu1): ReLU(inplace=True)\n",
       "          (conv2): Conv2d(16, 16, kernel_size=(3, 3), stride=(1, 1), padding=(1, 1), bias=False)\n",
       "          (bn2): BatchNorm2d(16, eps=1e-05, momentum=0.1, affine=True, track_running_stats=True)\n",
       "          (relu2): ReLU(inplace=True)\n",
       "          (residual_adj): Sequential(\n",
       "            (0): Conv2d(32, 16, kernel_size=(1, 1), stride=(1, 1), bias=False)\n",
       "            (1): BatchNorm2d(16, eps=1e-05, momentum=0.1, affine=True, track_running_stats=True)\n",
       "          )\n",
       "        )\n",
       "      )\n",
       "    )\n",
       "  )\n",
       "  (conv_output): Conv2d(16, 2, kernel_size=(3, 3), stride=(1, 1), padding=(1, 1), bias=False)\n",
       ")"
      ]
     },
     "execution_count": 1,
     "metadata": {},
     "output_type": "execute_result"
    }
   ],
   "source": [
    "import torch\n",
    "\n",
    "from torchtrainer import models\n",
    "\n",
    "# The layers parameter sets the number of stages and residual blocks at each stage of the U-Net. \n",
    "# Each value of the list sets the number of residual blocks at a stage. Thus, len(layers) sets\n",
    "# the number of stages.\n",
    "blocks_per_encoder_stage = (1, 3, 1)\n",
    "blocks_per_decoder_stage = (1, 1, 1)\n",
    "\n",
    "# The channels parameter sets the number of channels of each stage\n",
    "channels_per_stage = (16, 32, 64)\n",
    "\n",
    "# Given the layers and channels above, the created model will have three stages in the encoder.\n",
    "# The first stage will have 1 residual block with 16 channels, the second stage\n",
    "# 3 residual blocks with 32 channels and the last stage 1 residual block with\n",
    "# 64 channels. The decoder will have 1 residual block for each stage.\n",
    "model = models.UNetCustom(\n",
    "    blocks_per_encoder_stage, blocks_per_decoder_stage, channels_per_stage, in_channels=1\n",
    "    )\n",
    "model"
   ]
  },
  {
   "cell_type": "code",
   "execution_count": 2,
   "metadata": {},
   "outputs": [
    {
     "name": "stdout",
     "output_type": "stream",
     "text": [
      "18 18\n"
     ]
    }
   ],
   "source": [
    "# Check if the number of convolution layers of the model is as expected\n",
    "# It should be\n",
    "num_conv = sum([\n",
    " 1,                                  # Input layer\n",
    " 2*sum(blocks_per_encoder_stage),    # Two convolutions for each residual block (encoder)\n",
    " 2*sum(blocks_per_decoder_stage),    # Two convolutions for each residual block (decoder)\n",
    " 1                                   # Output layer\n",
    "])\n",
    "\n",
    "num_conv_model = 0\n",
    "for module in model.modules():\n",
    "    if isinstance(module, torch.nn.Conv2d) and module.kernel_size[0]>1:\n",
    "        num_conv_model += 1\n",
    "print(num_conv, num_conv_model)"
   ]
  },
  {
   "cell_type": "markdown",
   "metadata": {},
   "source": [
    "Some examples of architecutres"
   ]
  },
  {
   "cell_type": "code",
   "execution_count": 3,
   "metadata": {},
   "outputs": [],
   "source": [
    "# Only one stage with 12 residual blocks, each having 16 channels. \n",
    "model = models.UNetCustom((12,), (12,), (16,))\n",
    "# 3 stages with different number of channels each. Maximum downsampling will be 2**3=8.\n",
    "model = models.UNetCustom((3,3,3), (3,1,1), (16, 32, 64))\n",
    "# 5 stages with different number of channels each. Maximum downsampling will be 2**5=32.\n",
    "model = models.UNetCustom((2,2,2,2,2), (2,2,2,2,2), (16, 32, 64, 128, 256));"
   ]
  },
  {
   "cell_type": "markdown",
   "metadata": {},
   "source": [
    "### ResNetSeg\n",
    "\n",
    "The ResNetSeg model mimics a ResNet without the downsampling. The parameters are similar to the U-Net above. It has the layers:\n",
    "\n",
    "conv->stage_0->stage_1->...->stage_n->conv\n",
    "\n",
    "where each stage is\n",
    "\n",
    "residual_block_0->residual_block1->...->residual_block_n\n",
    "\n",
    "The number of channels is changed at the beginning of each stage."
   ]
  },
  {
   "cell_type": "code",
   "execution_count": null,
   "metadata": {},
   "outputs": [],
   "source": [
    "# Creates a model with 4 stages, each having 3 residual blocks.\n",
    "layers = (3,3,3,3)\n",
    "# First stage has 16 channels, second stage has 32, and third and fourth have 64\n",
    "channels = (16,32,64,64)\n",
    "model = models.ResNetSeg(layers, channels)"
   ]
  },
  {
   "cell_type": "code",
   "execution_count": null,
   "metadata": {},
   "outputs": [
    {
     "name": "stdout",
     "output_type": "stream",
     "text": [
      "26 26\n"
     ]
    }
   ],
   "source": [
    "# Check if the number of convolution layers of the model is as expected\n",
    "# It should be\n",
    "num_conv = sum([\n",
    " 1,                # Input layer\n",
    " 2*sum(layers),    # Two convolutions for each residual block (encoder)\n",
    " 1                 # Output layer\n",
    "])\n",
    "\n",
    "num_conv_model = 0\n",
    "for module in model.modules():\n",
    "    if isinstance(module, torch.nn.Conv2d) and module.kernel_size[0]>1:\n",
    "        num_conv_model += 1\n",
    "print(num_conv, num_conv_model)"
   ]
  }
 ],
 "metadata": {
  "kernelspec": {
   "display_name": "pytorch",
   "language": "python",
   "name": "python3"
  },
  "language_info": {
   "codemirror_mode": {
    "name": "ipython",
    "version": 3
   },
   "file_extension": ".py",
   "mimetype": "text/x-python",
   "name": "python",
   "nbconvert_exporter": "python",
   "pygments_lexer": "ipython3",
   "version": "3.12.6"
  }
 },
 "nbformat": 4,
 "nbformat_minor": 2
}
