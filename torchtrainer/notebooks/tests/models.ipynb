{
 "cells": [
  {
   "cell_type": "code",
   "execution_count": null,
   "id": "spectacular-functionality",
   "metadata": {},
   "outputs": [],
   "source": [
    "%load_ext autoreload\n",
    "%autoreload 2"
   ]
  },
  {
   "cell_type": "code",
   "execution_count": null,
   "id": "deadly-essex",
   "metadata": {},
   "outputs": [],
   "source": [
    "xb = torch.randn((2, 3, 572, 572)).to('cuda')\n",
    "model = ResUNet(3, 2)\n",
    "model.to('cuda')\n",
    "\n",
    "a1_ = ActivationSampler(model.encoder.resblock1)\n",
    "a2_ = ActivationSampler(model.encoder.resblock2)\n",
    "a3_ = ActivationSampler(model.encoder.resblock3)\n",
    "a4_ = ActivationSampler(model.encoder.resblock4)\n",
    "a_mid = ActivationSampler(model.encoder.resblock_mid)\n",
    "a_mid_up = ActivationSampler(model.a_mid_up)\n",
    "_a4 = ActivationSampler(model._l4)\n",
    "_a3 = ActivationSampler(model._l3)\n",
    "_a2 = ActivationSampler(model._l2)\n",
    "_a1 = ActivationSampler(model._l1)\n",
    "\n",
    "pred = model(xb)"
   ]
  },
  {
   "cell_type": "code",
   "execution_count": null,
   "id": "happy-middle",
   "metadata": {},
   "outputs": [],
   "source": [
    "print(a1_().shape)\n",
    "print(a2_().shape)\n",
    "print(a3_().shape)\n",
    "print(a4_().shape)\n",
    "print(a_mid().shape)\n",
    "print(a_mid_up().shape)\n",
    "print(_a4().shape)\n",
    "print(_a3().shape)\n",
    "print(_a2().shape)\n",
    "print(_a1().shape)"
   ]
  },
  {
   "cell_type": "code",
   "execution_count": null,
   "id": "likely-limit",
   "metadata": {},
   "outputs": [],
   "source": [
    "from pytorchlb.torchsummary import summary\n",
    "edunet.to('cuda')\n",
    "summary(edunet, input_size=(3, 500, 500))"
   ]
  }
 ],
 "metadata": {
  "kernelspec": {
   "display_name": "Python 3",
   "language": "python",
   "name": "python3"
  },
  "language_info": {
   "codemirror_mode": {
    "name": "ipython",
    "version": 3
   },
   "file_extension": ".py",
   "mimetype": "text/x-python",
   "name": "python",
   "nbconvert_exporter": "python",
   "pygments_lexer": "ipython3",
   "version": "3.7.4"
  }
 },
 "nbformat": 4,
 "nbformat_minor": 5
}
