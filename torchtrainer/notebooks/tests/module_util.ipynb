{
 "cells": [
  {
   "cell_type": "code",
   "execution_count": null,
   "id": "coated-magic",
   "metadata": {},
   "outputs": [],
   "source": [
    "%load_ext autoreload\n",
    "%autoreload 2"
   ]
  },
  {
   "cell_type": "code",
   "execution_count": null,
   "id": "corrected-stuart",
   "metadata": {},
   "outputs": [],
   "source": [
    "import torch\n",
    "from pytorchlb.unet import UNet    # Fix this!\n",
    "\n",
    "unet = UNet(3, 2)\n",
    "hooks_act = Hooks(unet, [unet.l1_, unet.l2_, unet.l3_, unet.l4_], calculate_stats(True))\n",
    "hooks_wei = Hooks(unet, [unet.l1_.dconv[0], unet.l2_.dconv[0], unet.l3_.dconv[0], unet.l4_.dconv[0]], \n",
    "                  calculate_stats(False, True))\n",
    "\n",
    "xb = torch.randn([2, 3, 128, 128])\n",
    "pred = unet(xb)"
   ]
  },
  {
   "cell_type": "code",
   "execution_count": null,
   "id": "ready-professor",
   "metadata": {},
   "outputs": [],
   "source": [
    "hooks_wei.storage"
   ]
  }
 ],
 "metadata": {
  "kernelspec": {
   "display_name": "Python 3",
   "language": "python",
   "name": "python3"
  },
  "language_info": {
   "codemirror_mode": {
    "name": "ipython",
    "version": 3
   },
   "file_extension": ".py",
   "mimetype": "text/x-python",
   "name": "python",
   "nbconvert_exporter": "python",
   "pygments_lexer": "ipython3",
   "version": "3.7.4"
  }
 },
 "nbformat": 4,
 "nbformat_minor": 5
}
