{
 "cells": [
  {
   "cell_type": "code",
   "execution_count": null,
   "id": "close-washington",
   "metadata": {},
   "outputs": [],
   "source": [
    "from torchtrainer import img_util\n",
    "import imgaug.augmenters as iaa\n",
    "from pathlib import Path\n",
    "from functools import partial\n",
    "import re\n",
    "\n",
    "def name_2_label_map(img_filename):\n",
    "    '''Maps image names to labels names in the DRIVE dataset\n",
    "    \n",
    "    Parameters\n",
    "    ----------\n",
    "    img_filename : string\n",
    "        Filename of an image\n",
    "        \n",
    "    Returns\n",
    "    -------\n",
    "    label_filename : string\n",
    "        Filename of the corresponding label image\n",
    "    '''  \n",
    "    \n",
    "    m = re.match('(\\d\\d)_[training|test]', img_filename)\n",
    "    index = m.group(1)\n",
    "    label_filename = index + '_manual1.gif'\n",
    "    \n",
    "    return label_filename\n",
    "\n",
    "\n",
    "root_dir = Path('../drive/data/DRIVE')\n",
    "img_dir = root_dir/'images'\n",
    "label_dir = root_dir/'labels'\n",
    "\n",
    "# Create functions for using in the dataset creation\n",
    "img_opener_partial = partial(img_util.pil_img_opener, channel=None)\n",
    "label_opener_partial = partial(img_util.pil_img_opener, is_label=True)\n",
    "\n",
    "files = list(img_dir.iterdir())\n",
    "img_pil = img_opener_partial(files[0])\n",
    "label_pil = label_opener_partial(label_dir/name_2_label_map(files[0].stem))\n",
    "\n"
   ]
  },
  {
   "cell_type": "code",
   "execution_count": null,
   "id": "editorial-batch",
   "metadata": {},
   "outputs": [],
   "source": [
    "weight = np.random.rand(img_pil.height, img_pil.width)\n",
    "weight_pil = Image.fromarray(weight/weight.max())\n",
    "\n",
    "#img, label, weight = _test_transforms(img_pil, label_pil, weight_pil)"
   ]
  },
  {
   "cell_type": "code",
   "execution_count": null,
   "id": "sweet-eagle",
   "metadata": {},
   "outputs": [],
   "source": [
    "img_util.show(img, False)\n",
    "img_util.show(label, True)\n",
    "print(np.allclose(np.array(weight_pil), weight))"
   ]
  }
 ],
 "metadata": {
  "kernelspec": {
   "display_name": "Python 3",
   "language": "python",
   "name": "python3"
  },
  "language_info": {
   "codemirror_mode": {
    "name": "ipython",
    "version": 3
   },
   "file_extension": ".py",
   "mimetype": "text/x-python",
   "name": "python",
   "nbconvert_exporter": "python",
   "pygments_lexer": "ipython3",
   "version": "3.7.4"
  }
 },
 "nbformat": 4,
 "nbformat_minor": 5
}
