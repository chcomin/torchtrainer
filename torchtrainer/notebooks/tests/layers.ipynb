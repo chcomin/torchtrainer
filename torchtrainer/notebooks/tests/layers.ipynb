{
 "cells": [
  {
   "cell_type": "code",
   "execution_count": null,
   "id": "valid-privilege",
   "metadata": {},
   "outputs": [],
   "source": [
    "%load_ext autoreload\n",
    "%autoreload 2"
   ]
  },
  {
   "cell_type": "code",
   "execution_count": null,
   "id": "magnetic-coupon",
   "metadata": {},
   "outputs": [],
   "source": [
    "import time\n",
    "import torch\n",
    "\n",
    "class TestModule(nn.Module):\n",
    "\n",
    "    def __init__(self, layer, nlayers, channels, int_channels=16, kernel_size=3):\n",
    "        super(TestModule, self).__init__()\n",
    "        \n",
    "        kernel_size = ntuple(3, 3)\n",
    "        \n",
    "        layers = [layer(channels, int_channels, kernel_size)]\n",
    "        for i in range(nlayers):\n",
    "            layers.append(layer(int_channels, int_channels, kernel_size))\n",
    "        layers.append(layer(int_channels, 1, kernel_size))\n",
    "        self.layers = nn.Sequential(*layers)\n",
    "        \n",
    "    def forward(self, x):\n",
    "        \n",
    "        for layer in self.children():\n",
    "            x = layer(x)\n",
    "        return x\n",
    "\n",
    "def time_model(model, num_iterations=10, bs=8, channels=32, shape=None):\n",
    "    \n",
    "    if shape is None:\n",
    "        shape = (50, 50)\n",
    "        \n",
    "    model.cuda()\n",
    "\n",
    "    tt = 0\n",
    "    for i in range(num_iterations):\n",
    "        inp = torch.rand(bs, channels, *shape).cuda()\n",
    "        ti = time.time()\n",
    "        res = model(inp)\n",
    "        tf = time.time()\n",
    "        tt += tf-ti\n",
    "    tm = tt/num_iterations\n",
    "    \n",
    "    model.cpu()\n",
    "\n",
    "    return tm"
   ]
  },
  {
   "cell_type": "code",
   "execution_count": null,
   "id": "cloudy-startup",
   "metadata": {},
   "outputs": [],
   "source": [
    "#Conv2dCH(1, 2, (3,3), stride=1, bias=False)(img[None, None])   \n",
    "inp = torch.rand(1, 1, 5, 5, 5)\n",
    "res = Conv3dCH(1, 1, (3, 3, 3), stride=1, bias=False)(inp) "
   ]
  },
  {
   "cell_type": "code",
   "execution_count": null,
   "id": "static-employment",
   "metadata": {},
   "outputs": [],
   "source": [
    "conv3d = nn.Conv3d(3, 32, (7, 7, 7))\n",
    "conv3dch = Conv3dCH(3, 32, (7, 7, 7))\n",
    "tm = TestModule(nn.Conv3d, nlayers=18, channels=1, int_channels=32)\n",
    "\n",
    "res = time_model(tm, num_iterations=10, bs=2, channels=1, shape=(70, 70, 70))"
   ]
  }
 ],
 "metadata": {
  "kernelspec": {
   "display_name": "Python 3",
   "language": "python",
   "name": "python3"
  },
  "language_info": {
   "codemirror_mode": {
    "name": "ipython",
    "version": 3
   },
   "file_extension": ".py",
   "mimetype": "text/x-python",
   "name": "python",
   "nbconvert_exporter": "python",
   "pygments_lexer": "ipython3",
   "version": "3.7.4"
  }
 },
 "nbformat": 4,
 "nbformat_minor": 5
}
