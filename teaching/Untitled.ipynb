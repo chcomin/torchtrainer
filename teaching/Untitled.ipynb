{
 "cells": [
  {
   "cell_type": "code",
   "execution_count": 1,
   "metadata": {},
   "outputs": [],
   "source": [
    "import torch\n",
    "import torch.nn as nn\n",
    "\n",
    "# Image\n",
    "img = torch.tensor([[1, 3, 1, 2],\n",
    "                    [0, 2, 1, 4],\n",
    "                    [2, 1, 0, 1],\n",
    "                    [3, 1, 2, 3]]).float()\n",
    "\n",
    "# Filter\n",
    "w = torch.tensor([[1, 1, 1],\n",
    "                  [1, 1, 1],\n",
    "                  [1, 1, 1]]).float()\n",
    "\n",
    "padding = 1\n",
    "kernel_size = w.shape[0]"
   ]
  },
  {
   "cell_type": "code",
   "execution_count": 2,
   "metadata": {},
   "outputs": [
    {
     "name": "stdout",
     "output_type": "stream",
     "text": [
      "tensor([[[[ 6.,  8., 13.,  8.],\n",
      "          [ 9., 11., 15.,  9.],\n",
      "          [ 9., 12., 15., 11.],\n",
      "          [ 7.,  9.,  8.,  6.]]]], grad_fn=<MkldnnConvolutionBackward>)\n"
     ]
    }
   ],
   "source": [
    "conv2d = nn.Conv2d(in_channels=1, out_channels=1, kernel_size=kernel_size, stride=1, padding=padding, \n",
    "                   bias=False, padding_mode='zeros')\n",
    "\n",
    "with torch.no_grad():\n",
    "    # Change values in place \n",
    "    #conv2d.weight[:] = w.view(1, 1, 3, 3)\n",
    "    # Or add values as parameter\n",
    "    conv2d.weight = nn.Parameter(w.view(1, 1, 3, 3))\n",
    "    \n",
    "res_conv2d = conv2d(img[None,None])\n",
    "print(res_conv2d)"
   ]
  },
  {
   "cell_type": "code",
   "execution_count": null,
   "metadata": {},
   "outputs": [],
   "source": []
  }
 ],
 "metadata": {
  "kernelspec": {
   "display_name": "Python 3",
   "language": "python",
   "name": "python3"
  },
  "language_info": {
   "codemirror_mode": {
    "name": "ipython",
    "version": 3
   },
   "file_extension": ".py",
   "mimetype": "text/x-python",
   "name": "python",
   "nbconvert_exporter": "python",
   "pygments_lexer": "ipython3",
   "version": "3.7.4"
  }
 },
 "nbformat": 4,
 "nbformat_minor": 4
}
